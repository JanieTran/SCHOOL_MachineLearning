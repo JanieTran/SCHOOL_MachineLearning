{
 "cells": [
  {
   "cell_type": "markdown",
   "metadata": {},
   "source": [
    "# LAB 9 - KERAS\n",
    "\n",
    "**Student Name:** Tran Thi Hong Phuong</br>\n",
    "**Student ID:** s3623386"
   ]
  },
  {
   "cell_type": "markdown",
   "metadata": {},
   "source": [
    "# Dataset\n",
    "\n",
    "Let's get started by **importing the libraries** we'll need: scikit-learn, Keras and some plotting features."
   ]
  },
  {
   "cell_type": "code",
   "execution_count": 1,
   "metadata": {},
   "outputs": [
    {
     "name": "stderr",
     "output_type": "stream",
     "text": [
      "Using TensorFlow backend.\n"
     ]
    }
   ],
   "source": [
    "import seaborn as sns\n",
    "import numpy as np\n",
    "from sklearn.model_selection import train_test_split\n",
    "from keras.models import Sequential\n",
    "from keras.layers.core import Dense, Activation\n",
    "from keras.utils import np_utils"
   ]
  },
  {
   "cell_type": "markdown",
   "metadata": {},
   "source": [
    "The data will be the iris dataset, this is built into many machine learning libraries. We will use copy in seaborn because it comes as a labelled dataframe that can be easily visualized, and we're already using seaborn for visualization, so **let's load it from there and look at the first 5 examples.**"
   ]
  },
  {
   "cell_type": "code",
   "execution_count": 2,
   "metadata": {},
   "outputs": [
    {
     "data": {
      "text/html": [
       "<div>\n",
       "<style scoped>\n",
       "    .dataframe tbody tr th:only-of-type {\n",
       "        vertical-align: middle;\n",
       "    }\n",
       "\n",
       "    .dataframe tbody tr th {\n",
       "        vertical-align: top;\n",
       "    }\n",
       "\n",
       "    .dataframe thead th {\n",
       "        text-align: right;\n",
       "    }\n",
       "</style>\n",
       "<table border=\"1\" class=\"dataframe\">\n",
       "  <thead>\n",
       "    <tr style=\"text-align: right;\">\n",
       "      <th></th>\n",
       "      <th>sepal_length</th>\n",
       "      <th>sepal_width</th>\n",
       "      <th>petal_length</th>\n",
       "      <th>petal_width</th>\n",
       "      <th>species</th>\n",
       "    </tr>\n",
       "  </thead>\n",
       "  <tbody>\n",
       "    <tr>\n",
       "      <th>0</th>\n",
       "      <td>5.1</td>\n",
       "      <td>3.5</td>\n",
       "      <td>1.4</td>\n",
       "      <td>0.2</td>\n",
       "      <td>setosa</td>\n",
       "    </tr>\n",
       "    <tr>\n",
       "      <th>1</th>\n",
       "      <td>4.9</td>\n",
       "      <td>3.0</td>\n",
       "      <td>1.4</td>\n",
       "      <td>0.2</td>\n",
       "      <td>setosa</td>\n",
       "    </tr>\n",
       "    <tr>\n",
       "      <th>2</th>\n",
       "      <td>4.7</td>\n",
       "      <td>3.2</td>\n",
       "      <td>1.3</td>\n",
       "      <td>0.2</td>\n",
       "      <td>setosa</td>\n",
       "    </tr>\n",
       "    <tr>\n",
       "      <th>3</th>\n",
       "      <td>4.6</td>\n",
       "      <td>3.1</td>\n",
       "      <td>1.5</td>\n",
       "      <td>0.2</td>\n",
       "      <td>setosa</td>\n",
       "    </tr>\n",
       "    <tr>\n",
       "      <th>4</th>\n",
       "      <td>5.0</td>\n",
       "      <td>3.6</td>\n",
       "      <td>1.4</td>\n",
       "      <td>0.2</td>\n",
       "      <td>setosa</td>\n",
       "    </tr>\n",
       "  </tbody>\n",
       "</table>\n",
       "</div>"
      ],
      "text/plain": [
       "   sepal_length  sepal_width  petal_length  petal_width species\n",
       "0           5.1          3.5           1.4          0.2  setosa\n",
       "1           4.9          3.0           1.4          0.2  setosa\n",
       "2           4.7          3.2           1.3          0.2  setosa\n",
       "3           4.6          3.1           1.5          0.2  setosa\n",
       "4           5.0          3.6           1.4          0.2  setosa"
      ]
     },
     "execution_count": 2,
     "metadata": {},
     "output_type": "execute_result"
    }
   ],
   "source": [
    "iris = sns.load_dataset(\"iris\")\n",
    "iris.head()"
   ]
  },
  {
   "cell_type": "markdown",
   "metadata": {},
   "source": [
    "Our job is to build a classifier that given the two petal and two sepal measurements, can predict the species of an iris. **Let's do a quick visualization before we start model building (always a good idea!).**"
   ]
  },
  {
   "cell_type": "code",
   "execution_count": 3,
   "metadata": {},
   "outputs": [
    {
     "name": "stderr",
     "output_type": "stream",
     "text": [
      "C:\\Users\\Dell\\Miniconda3\\envs\\tensorflow-gpu\\lib\\site-packages\\scipy\\stats\\stats.py:1713: FutureWarning: Using a non-tuple sequence for multidimensional indexing is deprecated; use `arr[tuple(seq)]` instead of `arr[seq]`. In the future this will be interpreted as an array index, `arr[np.array(seq)]`, which will result either in an error or a different result.\n",
      "  return np.add.reduce(sorted[indexer] * weights, axis=axis) / sumval\n"
     ]
    },
    {
     "data": {
      "text/plain": [
       "<seaborn.axisgrid.PairGrid at 0x284f4420cc0>"
      ]
     },
     "execution_count": 3,
     "metadata": {},
     "output_type": "execute_result"
    },
    {
     "data": {
      "image/png": "[encoded data removed]",
      "text/plain": [
       "<Figure size 804.75x720 with 20 Axes>"
      ]
     },
     "metadata": {
      "needs_background": "light"
     },
     "output_type": "display_data"
    }
   ],
   "source": [
    "sns.pairplot(iris, hue='species')"
   ]
  },
  {
   "cell_type": "markdown",
   "metadata": {},
   "source": [
    "**Now we will separate the dependent/target variable which is `species` in our case from other variables.** We'll hold the petal and sepal data in an array X and the species labels in a corresponding array y."
   ]
  },
  {
   "cell_type": "code",
   "execution_count": 4,
   "metadata": {},
   "outputs": [],
   "source": [
    "X = iris.values[:, :4]\n",
    "y = iris.values[:, 4]"
   ]
  },
  {
   "cell_type": "markdown",
   "metadata": {},
   "source": [
    "As it is standard in supervised machine learning, we'll train with some of the data, and measure the performance of our model with the remainder. This is simple to do by hand, but is also built into scikit-learn as the **`train_test_split()`** function."
   ]
  },
  {
   "cell_type": "code",
   "execution_count": 5,
   "metadata": {},
   "outputs": [],
   "source": [
    "from sklearn.model_selection import train_test_split\n",
    "\n",
    "train_X, test_X, train_y, test_y = train_test_split(X, y, train_size=0.7, test_size=0.3,random_state=0)"
   ]
  },
  {
   "cell_type": "markdown",
   "metadata": {},
   "source": [
    "Here we are splitting whole dataset into 70% for training and 30% for testing. The `random_state` makes sure that the split is always same. Keras requires that the labels be **one-hot-encoded**. This means we need to convert data that looks like\n",
    "\n",
    "> setosa</br>\n",
    "versicolor</br>\n",
    "setosa</br>\n",
    "virginica</br>\n",
    "...\n",
    "\n",
    "to a table that looks likes\n",
    "\n",
    "> setosa versicolor virginica</br>\n",
    "1 0 0</br>\n",
    "0 1 0</br>\n",
    "1 0 0</br>\n",
    "0 0 1\n",
    "\n",
    "**Complete the code snippet below:**"
   ]
  },
  {
   "cell_type": "code",
   "execution_count": 6,
   "metadata": {},
   "outputs": [],
   "source": [
    "def one_hot_encode_object_array(arr):\n",
    "    # One hot encode a numpy array of objects (e.g. strings)\n",
    "    uniques, ids = np.unique(arr, return_inverse=True)\n",
    "    return np_utils.to_categorical(ids, len(uniques))"
   ]
  },
  {
   "cell_type": "code",
   "execution_count": 7,
   "metadata": {},
   "outputs": [],
   "source": [
    "train_y_ohe = one_hot_encode_object_array(train_y)\n",
    "test_y_ohe = one_hot_encode_object_array(test_y)"
   ]
  },
  {
   "cell_type": "markdown",
   "metadata": {},
   "source": [
    "So far we have done data preprocessing. From this point, we are going to make the actual neural network model and train and test it.\n",
    "\n",
    "In our case, we'll build an extremely simple network. Two of the choices are made for us by the data. We have four features and three classes, so the input layer must have four units, and the output layer must have three units. We only have to define the hidden layers. **We're only going to have one hidden layer for this project, and we'll give it 16 nodes/neurons/units. We're going to define our model in the most common way i.e a sequential stack of layers.**"
   ]
  },
  {
   "cell_type": "code",
   "execution_count": 8,
   "metadata": {},
   "outputs": [],
   "source": [
    "# Initialise the model as a sequential model\n",
    "model = Sequential()\n",
    "\n",
    "# Define the size of input layer (input_shape=(4,))\n",
    "# and the size and activation of the hidden layer\n",
    "model.add(Dense(16, input_shape=(4,), activation='relu'))\n",
    "\n",
    "# Define the size and activation function of the output layer\n",
    "model.add(Dense(3, activation='softmax'))"
   ]
  },
  {
   "cell_type": "markdown",
   "metadata": {},
   "source": [
    "**QUESTION: what is a sequential model?**\n",
    "\n",
    "> *ANSWER:* Sequential model is a number of layers that are stacked one after another."
   ]
  },
  {
   "cell_type": "markdown",
   "metadata": {},
   "source": [
    "Finally, we **specify the optimization strategy and the loss function to optimize**. We also instruct the model to **calculate accuracy** as it works."
   ]
  },
  {
   "cell_type": "code",
   "execution_count": 9,
   "metadata": {},
   "outputs": [],
   "source": [
    "model.compile(optimizer='adam', loss='categorical_crossentropy', metrics=[\"accuracy\"])"
   ]
  },
  {
   "cell_type": "markdown",
   "metadata": {},
   "source": [
    "There are more than one optimizers available but for now, we will use “adam”. You will work with other optimizers in the experimental section of this tutorial. Here, we have used `categorical_crossentropy` because there are more than two categories in the output variable. Now we've defined the structure of the model and compiled it. Below is the visualization of this model.\n",
    "\n",
    "If you would like to visualize your other models, look for ANN Visualizer section in the optional part of this tutorial.\n",
    "The last step is to **train the model on data and find accuracy on test data**. To do that, run this command"
   ]
  },
  {
   "cell_type": "code",
   "execution_count": 10,
   "metadata": {},
   "outputs": [
    {
     "name": "stdout",
     "output_type": "stream",
     "text": [
      "Epoch 1/100\n",
      "105/105 [==============================] - 5s 52ms/step - loss: 2.4947 - acc: 0.3714\n",
      "Epoch 2/100\n",
      "105/105 [==============================] - 0s 199us/step - loss: 2.3753 - acc: 0.3714\n",
      "Epoch 3/100\n",
      "105/105 [==============================] - 0s 199us/step - loss: 2.2573 - acc: 0.3714\n",
      "Epoch 4/100\n",
      "105/105 [==============================] - 0s 199us/step - loss: 2.1381 - acc: 0.3714\n",
      "Epoch 5/100\n",
      "105/105 [==============================] - 0s 218us/step - loss: 2.0226 - acc: 0.3714\n",
      "Epoch 6/100\n",
      "105/105 [==============================] - 0s 218us/step - loss: 1.9145 - acc: 0.3714\n",
      "Epoch 7/100\n",
      "105/105 [==============================] - 0s 199us/step - loss: 1.8178 - acc: 0.3714\n",
      "Epoch 8/100\n",
      "105/105 [==============================] - 0s 199us/step - loss: 1.7247 - acc: 0.3714\n",
      "Epoch 9/100\n",
      "105/105 [==============================] - 0s 190us/step - loss: 1.6359 - acc: 0.3714\n",
      "Epoch 10/100\n",
      "105/105 [==============================] - 0s 190us/step - loss: 1.5655 - acc: 0.3714\n",
      "Epoch 11/100\n",
      "105/105 [==============================] - 0s 180us/step - loss: 1.4936 - acc: 0.3714\n",
      "Epoch 12/100\n",
      "105/105 [==============================] - 0s 180us/step - loss: 1.4275 - acc: 0.3714\n",
      "Epoch 13/100\n",
      "105/105 [==============================] - 0s 199us/step - loss: 1.3670 - acc: 0.3714\n",
      "Epoch 14/100\n",
      "105/105 [==============================] - 0s 190us/step - loss: 1.3102 - acc: 0.3714\n",
      "Epoch 15/100\n",
      "105/105 [==============================] - 0s 218us/step - loss: 1.2525 - acc: 0.3810\n",
      "Epoch 16/100\n",
      "105/105 [==============================] - 0s 199us/step - loss: 1.2013 - acc: 0.5429\n",
      "Epoch 17/100\n",
      "105/105 [==============================] - 0s 209us/step - loss: 1.1549 - acc: 0.6476\n",
      "Epoch 18/100\n",
      "105/105 [==============================] - 0s 228us/step - loss: 1.1081 - acc: 0.6952\n",
      "Epoch 19/100\n",
      "105/105 [==============================] - 0s 209us/step - loss: 1.0640 - acc: 0.6952\n",
      "Epoch 20/100\n",
      "105/105 [==============================] - 0s 180us/step - loss: 1.0219 - acc: 0.6952\n",
      "Epoch 21/100\n",
      "105/105 [==============================] - 0s 180us/step - loss: 0.9878 - acc: 0.6857\n",
      "Epoch 22/100\n",
      "105/105 [==============================] - 0s 190us/step - loss: 0.9523 - acc: 0.6857\n",
      "Epoch 23/100\n",
      "105/105 [==============================] - 0s 171us/step - loss: 0.9163 - acc: 0.6476\n",
      "Epoch 24/100\n",
      "105/105 [==============================] - 0s 171us/step - loss: 0.8879 - acc: 0.6381\n",
      "Epoch 25/100\n",
      "105/105 [==============================] - 0s 161us/step - loss: 0.8583 - acc: 0.6095\n",
      "Epoch 26/100\n",
      "105/105 [==============================] - 0s 180us/step - loss: 0.8324 - acc: 0.6095\n",
      "Epoch 27/100\n",
      "105/105 [==============================] - 0s 171us/step - loss: 0.8081 - acc: 0.6190\n",
      "Epoch 28/100\n",
      "105/105 [==============================] - 0s 190us/step - loss: 0.7846 - acc: 0.6286\n",
      "Epoch 29/100\n",
      "105/105 [==============================] - 0s 180us/step - loss: 0.7608 - acc: 0.6571\n",
      "Epoch 30/100\n",
      "105/105 [==============================] - 0s 161us/step - loss: 0.7406 - acc: 0.6571\n",
      "Epoch 31/100\n",
      "105/105 [==============================] - 0s 180us/step - loss: 0.7207 - acc: 0.6667\n",
      "Epoch 32/100\n",
      "105/105 [==============================] - 0s 162us/step - loss: 0.7023 - acc: 0.6857\n",
      "Epoch 33/100\n",
      "105/105 [==============================] - 0s 171us/step - loss: 0.6844 - acc: 0.7429\n",
      "Epoch 34/100\n",
      "105/105 [==============================] - 0s 180us/step - loss: 0.6671 - acc: 0.7714\n",
      "Epoch 35/100\n",
      "105/105 [==============================] - 0s 161us/step - loss: 0.6517 - acc: 0.7905\n",
      "Epoch 36/100\n",
      "105/105 [==============================] - 0s 181us/step - loss: 0.6350 - acc: 0.7905\n",
      "Epoch 37/100\n",
      "105/105 [==============================] - 0s 161us/step - loss: 0.6203 - acc: 0.8095\n",
      "Epoch 38/100\n",
      "105/105 [==============================] - 0s 171us/step - loss: 0.6068 - acc: 0.8095\n",
      "Epoch 39/100\n",
      "105/105 [==============================] - 0s 180us/step - loss: 0.5940 - acc: 0.8286\n",
      "Epoch 40/100\n",
      "105/105 [==============================] - 0s 180us/step - loss: 0.5816 - acc: 0.8381\n",
      "Epoch 41/100\n",
      "105/105 [==============================] - 0s 161us/step - loss: 0.5709 - acc: 0.8476\n",
      "Epoch 42/100\n",
      "105/105 [==============================] - 0s 171us/step - loss: 0.5599 - acc: 0.8476\n",
      "Epoch 43/100\n",
      "105/105 [==============================] - 0s 180us/step - loss: 0.5503 - acc: 0.8571\n",
      "Epoch 44/100\n",
      "105/105 [==============================] - 0s 171us/step - loss: 0.5403 - acc: 0.8571\n",
      "Epoch 45/100\n",
      "105/105 [==============================] - 0s 171us/step - loss: 0.5311 - acc: 0.8571\n",
      "Epoch 46/100\n",
      "105/105 [==============================] - 0s 171us/step - loss: 0.5225 - acc: 0.8571\n",
      "Epoch 47/100\n",
      "105/105 [==============================] - 0s 180us/step - loss: 0.5145 - acc: 0.8571\n",
      "Epoch 48/100\n",
      "105/105 [==============================] - 0s 180us/step - loss: 0.5056 - acc: 0.8857\n",
      "Epoch 49/100\n",
      "105/105 [==============================] - 0s 180us/step - loss: 0.4973 - acc: 0.8952\n",
      "Epoch 50/100\n",
      "105/105 [==============================] - 0s 152us/step - loss: 0.4883 - acc: 0.9048\n",
      "Epoch 51/100\n",
      "105/105 [==============================] - 0s 152us/step - loss: 0.4812 - acc: 0.9238\n",
      "Epoch 52/100\n",
      "105/105 [==============================] - 0s 190us/step - loss: 0.4767 - acc: 0.9524\n",
      "Epoch 53/100\n",
      "105/105 [==============================] - 0s 171us/step - loss: 0.4717 - acc: 0.9714\n",
      "Epoch 54/100\n",
      "105/105 [==============================] - 0s 180us/step - loss: 0.4636 - acc: 0.9714\n",
      "Epoch 55/100\n",
      "105/105 [==============================] - 0s 161us/step - loss: 0.4556 - acc: 0.9524\n",
      "Epoch 56/100\n",
      "105/105 [==============================] - 0s 180us/step - loss: 0.4473 - acc: 0.9524\n",
      "Epoch 57/100\n",
      "105/105 [==============================] - 0s 199us/step - loss: 0.4416 - acc: 0.9238\n",
      "Epoch 58/100\n",
      "105/105 [==============================] - 0s 142us/step - loss: 0.4360 - acc: 0.9238\n",
      "Epoch 59/100\n",
      "105/105 [==============================] - 0s 180us/step - loss: 0.4304 - acc: 0.9238\n",
      "Epoch 60/100\n",
      "105/105 [==============================] - 0s 171us/step - loss: 0.4244 - acc: 0.9238\n",
      "Epoch 61/100\n",
      "105/105 [==============================] - 0s 171us/step - loss: 0.4192 - acc: 0.9238\n",
      "Epoch 62/100\n",
      "105/105 [==============================] - 0s 161us/step - loss: 0.4141 - acc: 0.9238\n",
      "Epoch 63/100\n",
      "105/105 [==============================] - 0s 171us/step - loss: 0.4090 - acc: 0.9238\n",
      "Epoch 64/100\n",
      "105/105 [==============================] - 0s 171us/step - loss: 0.4042 - acc: 0.9238\n",
      "Epoch 65/100\n",
      "105/105 [==============================] - 0s 180us/step - loss: 0.3996 - acc: 0.9238\n",
      "Epoch 66/100\n",
      "105/105 [==============================] - 0s 209us/step - loss: 0.3944 - acc: 0.9524\n",
      "Epoch 67/100\n",
      "105/105 [==============================] - 0s 190us/step - loss: 0.3896 - acc: 0.9524\n",
      "Epoch 68/100\n",
      "105/105 [==============================] - 0s 161us/step - loss: 0.3850 - acc: 0.9524\n",
      "Epoch 69/100\n",
      "105/105 [==============================] - 0s 190us/step - loss: 0.3825 - acc: 0.9714\n",
      "Epoch 70/100\n",
      "105/105 [==============================] - 0s 180us/step - loss: 0.3799 - acc: 0.9810\n",
      "Epoch 71/100\n",
      "105/105 [==============================] - 0s 162us/step - loss: 0.3758 - acc: 0.9810\n",
      "Epoch 72/100\n",
      "105/105 [==============================] - 0s 190us/step - loss: 0.3708 - acc: 0.9714\n",
      "Epoch 73/100\n",
      "105/105 [==============================] - 0s 180us/step - loss: 0.3665 - acc: 0.9714\n",
      "Epoch 74/100\n",
      "105/105 [==============================] - 0s 171us/step - loss: 0.3622 - acc: 0.9714\n",
      "Epoch 75/100\n",
      "105/105 [==============================] - 0s 190us/step - loss: 0.3583 - acc: 0.9619\n",
      "Epoch 76/100\n",
      "105/105 [==============================] - 0s 161us/step - loss: 0.3547 - acc: 0.9524\n",
      "Epoch 77/100\n",
      "105/105 [==============================] - 0s 161us/step - loss: 0.3510 - acc: 0.9524\n",
      "Epoch 78/100\n",
      "105/105 [==============================] - 0s 171us/step - loss: 0.3475 - acc: 0.9524\n",
      "Epoch 79/100\n",
      "105/105 [==============================] - 0s 180us/step - loss: 0.3442 - acc: 0.9619\n",
      "Epoch 80/100\n",
      "105/105 [==============================] - 0s 180us/step - loss: 0.3408 - acc: 0.9714\n",
      "Epoch 81/100\n",
      "105/105 [==============================] - 0s 199us/step - loss: 0.3377 - acc: 0.9524\n",
      "Epoch 82/100\n",
      "105/105 [==============================] - 0s 171us/step - loss: 0.3345 - acc: 0.9524\n",
      "Epoch 83/100\n",
      "105/105 [==============================] - 0s 171us/step - loss: 0.3315 - acc: 0.9524\n",
      "Epoch 84/100\n",
      "105/105 [==============================] - 0s 190us/step - loss: 0.3284 - acc: 0.9524\n",
      "Epoch 85/100\n",
      "105/105 [==============================] - 0s 180us/step - loss: 0.3262 - acc: 0.9524\n",
      "Epoch 86/100\n",
      "105/105 [==============================] - 0s 161us/step - loss: 0.3229 - acc: 0.9524\n",
      "Epoch 87/100\n",
      "105/105 [==============================] - 0s 171us/step - loss: 0.3200 - acc: 0.9524\n",
      "Epoch 88/100\n",
      "105/105 [==============================] - 0s 171us/step - loss: 0.3168 - acc: 0.9714\n",
      "Epoch 89/100\n",
      "105/105 [==============================] - 0s 152us/step - loss: 0.3144 - acc: 0.9810\n",
      "Epoch 90/100\n",
      "105/105 [==============================] - 0s 171us/step - loss: 0.3127 - acc: 0.9810\n",
      "Epoch 91/100\n",
      "105/105 [==============================] - 0s 162us/step - loss: 0.3101 - acc: 0.9810\n",
      "Epoch 92/100\n",
      "105/105 [==============================] - 0s 152us/step - loss: 0.3068 - acc: 0.9810\n",
      "Epoch 93/100\n",
      "105/105 [==============================] - 0s 171us/step - loss: 0.3041 - acc: 0.9714\n",
      "Epoch 94/100\n",
      "105/105 [==============================] - 0s 161us/step - loss: 0.3031 - acc: 0.9619\n",
      "Epoch 95/100\n",
      "105/105 [==============================] - 0s 161us/step - loss: 0.2995 - acc: 0.9524\n",
      "Epoch 96/100\n",
      "105/105 [==============================] - 0s 171us/step - loss: 0.2967 - acc: 0.9714\n",
      "Epoch 97/100\n",
      "105/105 [==============================] - 0s 152us/step - loss: 0.2945 - acc: 0.9810\n",
      "Epoch 98/100\n",
      "105/105 [==============================] - 0s 180us/step - loss: 0.2926 - acc: 0.9810\n",
      "Epoch 99/100\n",
      "105/105 [==============================] - 0s 180us/step - loss: 0.2908 - acc: 0.9810\n",
      "Epoch 100/100\n",
      "105/105 [==============================] - 0s 180us/step - loss: 0.2884 - acc: 0.9810\n"
     ]
    }
   ],
   "source": [
    "history = model.fit(train_X, train_y_ohe, epochs=100)"
   ]
  },
  {
   "cell_type": "markdown",
   "metadata": {},
   "source": [
    "## Optional - ANN Visualizer\n",
    "\n",
    "**Install ANN visualizer and graphviz using the following command on the terminal in the same conda environment**\n",
    "\n",
    "> `pip install ann_visualizer`</br>\n",
    "`conda install python-graphviz`\n",
    "\n",
    "then use this code to visualize the model"
   ]
  },
  {
   "cell_type": "code",
   "execution_count": 11,
   "metadata": {},
   "outputs": [],
   "source": [
    "from ann_visualizer.visualize import ann_viz\n",
    "ann_viz(model, title=\"My first neural network\")"
   ]
  },
  {
   "cell_type": "markdown",
   "metadata": {},
   "source": [
    "You should be able to see the progress in the console. It will be fast as the dataset is very small. In every epoch, all the rows in training data will get introduced to the model and weights will get adjusted accordingly.\n",
    "\n",
    "Now let us see how good the model is, by **testing on test data using this command**"
   ]
  },
  {
   "cell_type": "code",
   "execution_count": 12,
   "metadata": {},
   "outputs": [
    {
     "name": "stdout",
     "output_type": "stream",
     "text": [
      "MLP Error on test set: 8.89%\n",
      "MLP Accuracy on test set: 91.11%\n"
     ]
    }
   ],
   "source": [
    "scores = model.evaluate(test_X, test_y_ohe, verbose=0)\n",
    "print(\"MLP Error on test set: %.2f%%\" % (100-scores[1]*100))\n",
    "print(\"MLP Accuracy on test set: %.2f%%\" % (scores[1]*100))"
   ]
  },
  {
   "cell_type": "markdown",
   "metadata": {},
   "source": [
    "Congratulations!! you have built, trained and tested your first MLP model using keras."
   ]
  },
  {
   "cell_type": "markdown",
   "metadata": {},
   "source": [
    "# The MNIST Handwritten Digits dataset\n",
    "\n",
    "Now we are going to use the MNIST digits dataset for further understanding of MLP and Keras. The dataset is available in zipped format with \"MNIST\" name on Canvas.\n",
    "\n",
    "Download a copy of it on your local machine and unzip it. After unzip, navigate to the folder and start jupyter notebook from there. If you already have an instance of notebook running then you can change to that folder using “tree” page. Make sure the working directory should be “MNIST”, which is the top directory of the folder provided to you.\n",
    "\n",
    "Create a new Python 3 notebook and start with **importing following packages.**"
   ]
  },
  {
   "cell_type": "code",
   "execution_count": 13,
   "metadata": {},
   "outputs": [],
   "source": [
    "import os, skimage.io, matplotlib.pyplot as plt, numpy as np\n",
    "from sklearn.model_selection import train_test_split\n",
    "from sklearn.model_selection import StratifiedKFold\n",
    "from keras.models import Sequential\n",
    "from keras.layers.core import Dense, Activation\n",
    "from keras.utils import np_utils"
   ]
  },
  {
   "cell_type": "markdown",
   "metadata": {},
   "source": [
    "In the last problem, we imported the dataset directly from the keras package but for this exercise, we will load the dataset from the disk. There is a total of 70K images, so reading data will take a while. **The data will be in “List format”, we need to convert that into numpy arrays.** You can do it by running the following code."
   ]
  },
  {
   "cell_type": "code",
   "execution_count": 14,
   "metadata": {},
   "outputs": [],
   "source": [
    "def load_data(data_directory):\n",
    "    directories = [d for d in os.listdir(data_directory) if os.path.isdir(os.path.join(data_directory, d))]\n",
    "    labels = []\n",
    "    images = []\n",
    "    for d in directories:\n",
    "        label_directory = os.path.join(data_directory, d)\n",
    "        \n",
    "        file_names = [os.path.join(label_directory, f) for f in os.listdir(label_directory)]\n",
    "        for f in file_names:\n",
    "            images.append(skimage.io.imread(f))\n",
    "            labels.append(int(d))\n",
    "            \n",
    "    return images, labels"
   ]
  },
  {
   "cell_type": "code",
   "execution_count": 15,
   "metadata": {},
   "outputs": [],
   "source": [
    "train_data_path = os.path.join(os.getcwd(), \"data\", \"training\")\n",
    "test_data_path = os.path.join(os.getcwd(), \"data\", \"testing\")\n",
    "images, labels = load_data(train_data_path)\n",
    "test_images,test_labels = load_data(test_data_path)\n",
    "images = np.asarray(images)\n",
    "test_images = np.asarray(test_images)\n",
    "labels = np.asarray(labels)\n",
    "test_labels = np.asarray(test_labels)"
   ]
  },
  {
   "cell_type": "markdown",
   "metadata": {},
   "source": [
    "As you can see there are two splits already, one of those splits is test images and labels which will be used to test the model later. **The other split is images and labels data, retrieved from training folder, that will be further split into a training and a validation set using `train_test split()` function from sklearn library.** Validation data will be helping us to tweak hyperparameters of the model to avoid overfitting."
   ]
  },
  {
   "cell_type": "code",
   "execution_count": 16,
   "metadata": {},
   "outputs": [],
   "source": [
    "train_images, validation_images, train_labels, validation_labels = train_test_split(images, labels, train_size=0.8, test_size=0.2,random_state=0)"
   ]
  },
  {
   "cell_type": "markdown",
   "metadata": {},
   "source": [
    "Let's check the shape of each array and it should look like as below"
   ]
  },
  {
   "cell_type": "code",
   "execution_count": 17,
   "metadata": {},
   "outputs": [
    {
     "name": "stdout",
     "output_type": "stream",
     "text": [
      "(48000, 28, 28) (48000,) (12000, 28, 28) (12000,) (10000, 28, 28) (10000,)\n"
     ]
    }
   ],
   "source": [
    "print(train_images.shape, train_labels.shape, validation_images.shape, validation_labels.shape, test_images.shape, test_labels.shape)"
   ]
  },
  {
   "cell_type": "markdown",
   "metadata": {},
   "source": [
    "**We are gonna visualize some pictures to get some insights.**"
   ]
  },
  {
   "cell_type": "code",
   "execution_count": 18,
   "metadata": {},
   "outputs": [
    {
     "data": {
      "image/png": "[encoded data removed]",
      "text/plain": [
       "<Figure size 432x288 with 4 Axes>"
      ]
     },
     "metadata": {
      "needs_background": "light"
     },
     "output_type": "display_data"
    }
   ],
   "source": [
    "# plot 4 images as grayscale\n",
    "plt.subplot(221)\n",
    "plt.imshow(train_images[0], cmap=plt.get_cmap('gray'))\n",
    "plt.subplot(222)\n",
    "plt.imshow(train_images[1], cmap=plt.get_cmap('gray'))\n",
    "plt.subplot(223)\n",
    "plt.imshow(train_images[2], cmap=plt.get_cmap('gray'))\n",
    "plt.subplot(224)\n",
    "plt.imshow(train_images[3], cmap=plt.get_cmap('gray'))\n",
    "# show the plot\n",
    "plt.show()"
   ]
  },
  {
   "cell_type": "markdown",
   "metadata": {},
   "source": [
    "As we know that images are 2D arrays, which need to **flatten before getting fed into the network. MNIST images are of 28x28 which will be converted into a 1D array of 784**, that will also be the number of input nodes of the network."
   ]
  },
  {
   "cell_type": "code",
   "execution_count": 19,
   "metadata": {},
   "outputs": [],
   "source": [
    "num_pixels = train_images.shape[1] * train_images.shape[2]\n",
    "\n",
    "train_images = train_images.reshape(train_images.shape[0], num_pixels).astype('float32')\n",
    "validation_images = validation_images.reshape(validation_images.shape[0], num_pixels).astype('float32')\n",
    "test_images = test_images.reshape(test_images.shape[0], num_pixels).astype('float32')"
   ]
  },
  {
   "cell_type": "markdown",
   "metadata": {},
   "source": [
    "Usually, each pixel varies from 0-255, but it's highly recommended to **normalize them in range of 0-1 to speed up the process**. This mechanism called **Normalization** and can be done using this (complete the code below):"
   ]
  },
  {
   "cell_type": "code",
   "execution_count": 20,
   "metadata": {},
   "outputs": [],
   "source": [
    "train_images = train_images / 255.\n",
    "validation_images = validation_images / 255.\n",
    "test_images = test_images / 255."
   ]
  },
  {
   "cell_type": "markdown",
   "metadata": {},
   "source": [
    "Right now, the labels are an array of repetitive numbers, with each number represents each category, which needs to convert into factors. In the last example, we converted string labels into number and then into factor. In here, we directly **convert from number category labels to factor** using this:"
   ]
  },
  {
   "cell_type": "code",
   "execution_count": 21,
   "metadata": {},
   "outputs": [],
   "source": [
    "train_labels = np_utils.to_categorical(train_labels)\n",
    "validation_labels = np_utils.to_categorical(validation_labels)\n",
    "test_labels = np_utils.to_categorical(test_labels)\n",
    "\n",
    "num_classes = train_labels.shape[1]"
   ]
  },
  {
   "cell_type": "markdown",
   "metadata": {},
   "source": [
    "**Let's build a simple model with just one hidden layer and 350 nodes in it. And compile it.**"
   ]
  },
  {
   "cell_type": "code",
   "execution_count": 22,
   "metadata": {},
   "outputs": [],
   "source": [
    "model = Sequential()\n",
    "model.add(Dense(350, input_dim=num_pixels, activation='relu'))\n",
    "model.add(Dense(num_classes, activation='softmax'))\n",
    "model.compile(loss='categorical_crossentropy', optimizer='adam', metrics=['accuracy'])"
   ]
  },
  {
   "cell_type": "markdown",
   "metadata": {},
   "source": [
    "**Train the model and visualize training & validation accuracy from the training process saved into history variable.**"
   ]
  },
  {
   "cell_type": "code",
   "execution_count": 23,
   "metadata": {},
   "outputs": [
    {
     "name": "stdout",
     "output_type": "stream",
     "text": [
      "Train on 48000 samples, validate on 12000 samples\n",
      "Epoch 1/5\n",
      "48000/48000 [==============================] - 8s 160us/step - loss: 0.2370 - acc: 0.9311 - val_loss: 0.1153 - val_acc: 0.9678\n",
      "Epoch 2/5\n",
      "48000/48000 [==============================] - 7s 142us/step - loss: 0.0941 - acc: 0.9710 - val_loss: 0.0852 - val_acc: 0.9754\n",
      "Epoch 3/5\n",
      "48000/48000 [==============================] - 7s 143us/step - loss: 0.0616 - acc: 0.9808 - val_loss: 0.0846 - val_acc: 0.9743\n",
      "Epoch 4/5\n",
      "48000/48000 [==============================] - 7s 142us/step - loss: 0.0434 - acc: 0.9867 - val_loss: 0.0868 - val_acc: 0.9750\n",
      "Epoch 5/5\n",
      "48000/48000 [==============================] - 7s 142us/step - loss: 0.0308 - acc: 0.9904 - val_loss: 0.0730 - val_acc: 0.9790\n"
     ]
    }
   ],
   "source": [
    "history = model.fit(train_images, train_labels, validation_data=(validation_images, validation_labels), epochs=5)\n",
    "\n",
    "training_accuracy = history.history['acc']\n",
    "validation_accuracy = history.history['val_acc']\n",
    "training_error = history.history['loss']\n",
    "validation_error = history.history['val_loss']"
   ]
  },
  {
   "cell_type": "code",
   "execution_count": 24,
   "metadata": {},
   "outputs": [
    {
     "data": {
      "image/png": "[encoded data removed]",
      "text/plain": [
       "<Figure size 432x288 with 1 Axes>"
      ]
     },
     "metadata": {
      "needs_background": "light"
     },
     "output_type": "display_data"
    },
    {
     "data": {
      "image/png": "[encoded data removed]",
      "text/plain": [
       "<Figure size 576x432 with 1 Axes>"
      ]
     },
     "metadata": {
      "needs_background": "light"
     },
     "output_type": "display_data"
    }
   ],
   "source": [
    "plt.figure(0)\n",
    "plt.plot(training_accuracy,'r')\n",
    "plt.plot(validation_accuracy,'g')\n",
    "plt.xticks(np.arange(0, len(training_accuracy), 2.0))\n",
    "plt.rcParams['figure.figsize'] = (8, 6)\n",
    "plt.xlabel(\"Num of Epochs\")\n",
    "plt.ylabel(\"Accuracy\")\n",
    "plt.title(\"Training Accuracy vs Validation Accuracy\")\n",
    "plt.legend(['train','validation'])\n",
    "\n",
    "plt.figure(1)\n",
    "plt.plot(training_error,'r')\n",
    "plt.plot(validation_error,'g')\n",
    "plt.xticks(np.arange(0, len(training_accuracy), 2.0))\n",
    "plt.rcParams['figure.figsize'] = (8, 6)\n",
    "plt.xlabel(\"Num of Epochs\")\n",
    "plt.ylabel(\"Loss\")\n",
    "plt.title(\"Training Loss vs Validation Loss\")\n",
    "plt.legend(['train','validation'])\n",
    "\n",
    "plt.show()"
   ]
  },
  {
   "cell_type": "markdown",
   "metadata": {},
   "source": [
    "Note: training accuracy is the accuracy achieved by the model at the last epoch of training\n",
    "\n",
    "In the graph, if you see training accuracy significantly higher than validation accuracy at any point then it can be potential overfitting. You can avoid it by changing hidden layers, nodes in it or epochs, etc, that is a part of experimentations.\n",
    "\n",
    "So, now we are gonna **test our trained mode on a test set of 10K images.**"
   ]
  },
  {
   "cell_type": "code",
   "execution_count": 25,
   "metadata": {},
   "outputs": [
    {
     "name": "stdout",
     "output_type": "stream",
     "text": [
      "MLP Error on test set: 2.02%\n",
      "MLP Accuracy on test set: 97.98%\n"
     ]
    }
   ],
   "source": [
    "scores = model.evaluate(test_images, test_labels, verbose=0)\n",
    "print(\"MLP Error on test set: %.2f%%\" % (100-scores[1]*100))\n",
    "print(\"MLP Accuracy on test set: %.2f%%\" % (scores[1]*100))"
   ]
  },
  {
   "cell_type": "markdown",
   "metadata": {},
   "source": [
    "By now, you must have tweaked the hyperparameters and have a better model. Let's see how well does it work with **10 fold cross-validation**. The following code will perform the same and test the model again on the test set."
   ]
  },
  {
   "cell_type": "code",
   "execution_count": 26,
   "metadata": {},
   "outputs": [
    {
     "name": "stdout",
     "output_type": "stream",
     "text": [
      "acc: 96.82%\n",
      "acc: 95.74%\n",
      "acc: 96.35%\n",
      "acc: 96.20%\n",
      "acc: 96.22%\n",
      "acc: 96.45%\n",
      "acc: 96.37%\n",
      "acc: 96.57%\n",
      "acc: 96.21%\n",
      "acc: 96.13%\n",
      "Cross Validation Accuracy 96.30% (+/- 0.27%)\n",
      "Cross Validation Error 3.70% (+/- 0.27%)\n",
      "MLP Error on test set: 3.32%\n",
      "MLP Accuracy on test set: 96.68%\n"
     ]
    }
   ],
   "source": [
    "from sklearn.model_selection import StratifiedKFold\n",
    "\n",
    "images = images.reshape(images.shape[0], num_pixels).astype('float32')\n",
    "images = images / 255\n",
    "\n",
    "temp_labels = labels\n",
    "labels = np_utils.to_categorical(labels)\n",
    "\n",
    "kfold = StratifiedKFold(n_splits=10, shuffle=True)\n",
    "\n",
    "cv_acc = []\n",
    "cv_error = []\n",
    "for train, test in kfold.split(images, temp_labels):\n",
    "    # create model\n",
    "    model = Sequential()\n",
    "    model.add(Dense(350, input_dim=num_pixels, activation='relu'))\n",
    "    model.add(Dense(num_classes, activation='softmax'))\n",
    "    model.compile(loss='categorical_crossentropy', optimizer='adam',\n",
    "    metrics=['accuracy'])\n",
    "    # Fit the model\n",
    "    model.fit(images[train], labels[train], epochs=1, verbose=0)\n",
    "    # evaluate the model\n",
    "    scores = model.evaluate(images[test], labels[test], verbose=0)\n",
    "    print(\"%s: %.2f%%\" % (model.metrics_names[1], scores[1]*100))\n",
    "    cv_acc.append(scores[1] * 100)\n",
    "    cv_error.append(100-scores[1] * 100)\n",
    "    \n",
    "print(\"Cross Validation Accuracy %.2f%% (+/- %.2f%%)\" % (np.mean(cv_acc), np.std(cv_acc)))\n",
    "print(\"Cross Validation Error %.2f%% (+/- %.2f%%)\" % (np.mean(cv_error), np.std(cv_error)))\n",
    "\n",
    "scores = model.evaluate(test_images, test_labels, verbose=0)\n",
    "print(\"MLP Error on test set: %.2f%%\" % (100-scores[1]*100))\n",
    "print(\"MLP Accuracy on test set: %.2f%%\" % (scores[1]*100))"
   ]
  },
  {
   "cell_type": "markdown",
   "metadata": {},
   "source": [
    "Finally, the model is ready to use. **So, let's predict classes of some random images using this code**"
   ]
  },
  {
   "cell_type": "code",
   "execution_count": 27,
   "metadata": {},
   "outputs": [
    {
     "data": {
      "image/png": "[encoded data removed]",
      "text/plain": [
       "<Figure size 576x432 with 1 Axes>"
      ]
     },
     "metadata": {
      "needs_background": "light"
     },
     "output_type": "display_data"
    }
   ],
   "source": [
    "import random\n",
    "\n",
    "image_index = random.randint(0,test_images.shape[0])\n",
    "random_image = test_images[image_index]\n",
    "random_label = model.predict(random_image.reshape(1,random_image.shape[0])).argmax(axis=-1)\n",
    "\n",
    "plt.subplot(221)\n",
    "plt.imshow(random_image.reshape(28,28), cmap=plt.get_cmap('gray'))\n",
    "plt.title(\"Predicted Category: \" + str(random_label))\n",
    "plt.show()"
   ]
  },
  {
   "cell_type": "markdown",
   "metadata": {},
   "source": [
    "The next section is really important as it will guide you through some experimentations with the same model.\n",
    "\n",
    "# Experimentation\n",
    "\n",
    "Observe the effect on accuracy by try and changing the following parameters. **Perform some experiments with respect to the following considerations and note down your observations**. This will be your lab exercise for this week. "
   ]
  },
  {
   "cell_type": "code",
   "execution_count": 28,
   "metadata": {},
   "outputs": [],
   "source": [
    "def run_model(test_size=0.2, random_state=0, n_nodes=350, n_layers=1, n_epochs=5, optimiser='adam'):\n",
    "    X_train, X_val, Y_train, Y_val = train_test_split(images, labels, test_size=test_size, random_state=random_state)\n",
    "\n",
    "    model = Sequential()\n",
    "    model.add(Dense(n_nodes, input_dim=num_pixels, activation='relu'))\n",
    "    \n",
    "    if n_layers > 1:\n",
    "        for i in range(n_layers):\n",
    "            model.add(Dense(350, activation='relu'))\n",
    "    \n",
    "    model.add(Dense(num_classes, activation='softmax'))\n",
    "    model.compile(loss='categorical_crossentropy', optimizer=optimiser, metrics=['accuracy'])\n",
    "\n",
    "    model.fit(X_train, Y_train, validation_data=(X_val, Y_val), epochs=n_epochs)\n",
    "\n",
    "    scores = model.evaluate(test_images, test_labels, verbose=0)\n",
    "    print(\"MLP Error on test set: %.2f%%\" % (100-scores[1]*100))\n",
    "    print(\"MLP Accuracy on test set: %.2f%%\" % (scores[1]*100))"
   ]
  },
  {
   "cell_type": "markdown",
   "metadata": {},
   "source": [
    "## A. Split percentage between training and test set\n",
    "\n",
    "### More training images, less validation images"
   ]
  },
  {
   "cell_type": "code",
   "execution_count": 29,
   "metadata": {},
   "outputs": [
    {
     "name": "stdout",
     "output_type": "stream",
     "text": [
      "Train on 54000 samples, validate on 6000 samples\n",
      "Epoch 1/5\n",
      "54000/54000 [==============================] - 9s 166us/step - loss: 0.2221 - acc: 0.9361 - val_loss: 0.1105 - val_acc: 0.9700\n",
      "Epoch 2/5\n",
      "54000/54000 [==============================] - 8s 146us/step - loss: 0.0919 - acc: 0.9721 - val_loss: 0.0999 - val_acc: 0.9723\n",
      "Epoch 3/5\n",
      "54000/54000 [==============================] - 8s 144us/step - loss: 0.0596 - acc: 0.9815 - val_loss: 0.0891 - val_acc: 0.9737\n",
      "Epoch 4/5\n",
      "54000/54000 [==============================] - 8s 143us/step - loss: 0.0423 - acc: 0.9868 - val_loss: 0.0742 - val_acc: 0.9772\n",
      "Epoch 5/5\n",
      "54000/54000 [==============================] - 8s 143us/step - loss: 0.0304 - acc: 0.9906 - val_loss: 0.0751 - val_acc: 0.9792\n",
      "MLP Error on test set: 1.95%\n",
      "MLP Accuracy on test set: 98.05%\n"
     ]
    }
   ],
   "source": [
    "run_model(test_size=0.1)"
   ]
  },
  {
   "cell_type": "markdown",
   "metadata": {},
   "source": [
    "> *ANSWER:* Reducing validation size to have more training images slightly improve accuracy (98.05% vs 97.98%)"
   ]
  },
  {
   "cell_type": "markdown",
   "metadata": {},
   "source": [
    "### Less training images, more validation images"
   ]
  },
  {
   "cell_type": "code",
   "execution_count": 30,
   "metadata": {},
   "outputs": [
    {
     "name": "stdout",
     "output_type": "stream",
     "text": [
      "Train on 42000 samples, validate on 18000 samples\n",
      "Epoch 1/5\n",
      "42000/42000 [==============================] - 7s 175us/step - loss: 0.2567 - acc: 0.9260 - val_loss: 0.1396 - val_acc: 0.9606\n",
      "Epoch 2/5\n",
      "42000/42000 [==============================] - 7s 159us/step - loss: 0.1053 - acc: 0.9680 - val_loss: 0.1131 - val_acc: 0.9666\n",
      "Epoch 3/5\n",
      "42000/42000 [==============================] - 7s 159us/step - loss: 0.0669 - acc: 0.9793 - val_loss: 0.0879 - val_acc: 0.9738\n",
      "Epoch 4/5\n",
      "42000/42000 [==============================] - 7s 158us/step - loss: 0.0474 - acc: 0.9856 - val_loss: 0.0871 - val_acc: 0.9754\n",
      "Epoch 5/5\n",
      "42000/42000 [==============================] - 7s 159us/step - loss: 0.0335 - acc: 0.9891 - val_loss: 0.0848 - val_acc: 0.9772\n",
      "MLP Error on test set: 2.41%\n",
      "MLP Accuracy on test set: 97.59%\n"
     ]
    }
   ],
   "source": [
    "run_model(test_size=0.3)"
   ]
  },
  {
   "cell_type": "markdown",
   "metadata": {},
   "source": [
    "> *ANSWER:* Increasing validation slightly decreases accuracy (97.59% vs 97.98%)"
   ]
  },
  {
   "cell_type": "markdown",
   "metadata": {},
   "source": [
    "## B. Random state"
   ]
  },
  {
   "cell_type": "code",
   "execution_count": 31,
   "metadata": {},
   "outputs": [
    {
     "name": "stdout",
     "output_type": "stream",
     "text": [
      "Train on 48000 samples, validate on 12000 samples\n",
      "Epoch 1/5\n",
      "48000/48000 [==============================] - 8s 165us/step - loss: 0.2379 - acc: 0.9302 - val_loss: 0.1365 - val_acc: 0.9609\n",
      "Epoch 2/5\n",
      "48000/48000 [==============================] - 7s 156us/step - loss: 0.0945 - acc: 0.9714 - val_loss: 0.0922 - val_acc: 0.9706\n",
      "Epoch 3/5\n",
      "48000/48000 [==============================] - 7s 151us/step - loss: 0.0610 - acc: 0.9807 - val_loss: 0.0917 - val_acc: 0.9716\n",
      "Epoch 4/5\n",
      "48000/48000 [==============================] - 7s 151us/step - loss: 0.0426 - acc: 0.9868 - val_loss: 0.0795 - val_acc: 0.9761\n",
      "Epoch 5/5\n",
      "48000/48000 [==============================] - 7s 151us/step - loss: 0.0314 - acc: 0.9897 - val_loss: 0.0783 - val_acc: 0.9789\n",
      "MLP Error on test set: 2.14%\n",
      "MLP Accuracy on test set: 97.86%\n"
     ]
    }
   ],
   "source": [
    "run_model(random_state=19)"
   ]
  },
  {
   "cell_type": "markdown",
   "metadata": {},
   "source": [
    "> *ANSWER:* Changing `random_state` parameter does not have much effect on accuracy (97.86% vs 97.98%)"
   ]
  },
  {
   "cell_type": "markdown",
   "metadata": {},
   "source": [
    "## C. Number of nodes in a hidden layer"
   ]
  },
  {
   "cell_type": "markdown",
   "metadata": {},
   "source": [
    "### More nodes"
   ]
  },
  {
   "cell_type": "code",
   "execution_count": 32,
   "metadata": {},
   "outputs": [
    {
     "name": "stdout",
     "output_type": "stream",
     "text": [
      "Train on 48000 samples, validate on 12000 samples\n",
      "Epoch 1/5\n",
      "48000/48000 [==============================] - 9s 180us/step - loss: 0.2231 - acc: 0.9346 - val_loss: 0.1190 - val_acc: 0.9658\n",
      "Epoch 2/5\n",
      "48000/48000 [==============================] - 8s 167us/step - loss: 0.0881 - acc: 0.9733 - val_loss: 0.0930 - val_acc: 0.9726\n",
      "Epoch 3/5\n",
      "48000/48000 [==============================] - 8s 170us/step - loss: 0.0567 - acc: 0.9821 - val_loss: 0.0828 - val_acc: 0.9776\n",
      "Epoch 4/5\n",
      "48000/48000 [==============================] - 8s 167us/step - loss: 0.0391 - acc: 0.9876 - val_loss: 0.0855 - val_acc: 0.9742\n",
      "Epoch 5/5\n",
      "48000/48000 [==============================] - 8s 167us/step - loss: 0.0295 - acc: 0.9909 - val_loss: 0.0792 - val_acc: 0.9778\n",
      "MLP Error on test set: 2.37%\n",
      "MLP Accuracy on test set: 97.63%\n"
     ]
    }
   ],
   "source": [
    "run_model(n_nodes=512)"
   ]
  },
  {
   "cell_type": "markdown",
   "metadata": {},
   "source": [
    "> *ANSWER:* Increasing the number of nodes slightly improves training accuracy but worsens test accuracy -> overfit"
   ]
  },
  {
   "cell_type": "markdown",
   "metadata": {},
   "source": [
    "### Less nodes"
   ]
  },
  {
   "cell_type": "code",
   "execution_count": 33,
   "metadata": {},
   "outputs": [
    {
     "name": "stdout",
     "output_type": "stream",
     "text": [
      "Train on 48000 samples, validate on 12000 samples\n",
      "Epoch 1/5\n",
      "48000/48000 [==============================] - 7s 154us/step - loss: 0.2842 - acc: 0.9189 - val_loss: 0.1687 - val_acc: 0.9512\n",
      "Epoch 2/5\n",
      "48000/48000 [==============================] - 7s 140us/step - loss: 0.1265 - acc: 0.9622 - val_loss: 0.1164 - val_acc: 0.9663\n",
      "Epoch 3/5\n",
      "48000/48000 [==============================] - 7s 141us/step - loss: 0.0862 - acc: 0.9747 - val_loss: 0.0904 - val_acc: 0.9743\n",
      "Epoch 4/5\n",
      "48000/48000 [==============================] - 7s 139us/step - loss: 0.0645 - acc: 0.9809 - val_loss: 0.0937 - val_acc: 0.9732\n",
      "Epoch 5/5\n",
      "48000/48000 [==============================] - 7s 136us/step - loss: 0.0497 - acc: 0.9849 - val_loss: 0.0840 - val_acc: 0.9754\n",
      "MLP Error on test set: 2.50%\n",
      "MLP Accuracy on test set: 97.50%\n"
     ]
    }
   ],
   "source": [
    "run_model(n_nodes=128)"
   ]
  },
  {
   "cell_type": "markdown",
   "metadata": {},
   "source": [
    "> *ANSWER:* Decreasing the number of nodes worsens both training accuracy and test accuracy -> underfit"
   ]
  },
  {
   "cell_type": "markdown",
   "metadata": {},
   "source": [
    "## D. Add more hidden layers"
   ]
  },
  {
   "cell_type": "code",
   "execution_count": 34,
   "metadata": {},
   "outputs": [
    {
     "name": "stdout",
     "output_type": "stream",
     "text": [
      "Train on 48000 samples, validate on 12000 samples\n",
      "Epoch 1/5\n",
      "48000/48000 [==============================] - 10s 218us/step - loss: 0.2150 - acc: 0.9350 - val_loss: 0.1132 - val_acc: 0.9665\n",
      "Epoch 2/5\n",
      "48000/48000 [==============================] - 10s 203us/step - loss: 0.0959 - acc: 0.9701 - val_loss: 0.1238 - val_acc: 0.9633\n",
      "Epoch 3/5\n",
      "48000/48000 [==============================] - 10s 201us/step - loss: 0.0702 - acc: 0.9782 - val_loss: 0.0910 - val_acc: 0.9732\n",
      "Epoch 4/5\n",
      "48000/48000 [==============================] - 10s 203us/step - loss: 0.0559 - acc: 0.9826 - val_loss: 0.0935 - val_acc: 0.9752\n",
      "Epoch 5/5\n",
      "48000/48000 [==============================] - 10s 202us/step - loss: 0.0441 - acc: 0.9860 - val_loss: 0.0921 - val_acc: 0.9763\n",
      "MLP Error on test set: 2.57%\n",
      "MLP Accuracy on test set: 97.43%\n"
     ]
    }
   ],
   "source": [
    "run_model(n_layers=2)"
   ]
  },
  {
   "cell_type": "code",
   "execution_count": 35,
   "metadata": {},
   "outputs": [
    {
     "name": "stdout",
     "output_type": "stream",
     "text": [
      "Train on 48000 samples, validate on 12000 samples\n",
      "Epoch 1/5\n",
      "48000/48000 [==============================] - 12s 243us/step - loss: 0.2324 - acc: 0.9296 - val_loss: 0.1439 - val_acc: 0.9575\n",
      "Epoch 2/5\n",
      "48000/48000 [==============================] - 11s 226us/step - loss: 0.1124 - acc: 0.9675 - val_loss: 0.1335 - val_acc: 0.9616\n",
      "Epoch 3/5\n",
      "48000/48000 [==============================] - 11s 227us/step - loss: 0.0815 - acc: 0.9762 - val_loss: 0.1189 - val_acc: 0.9686\n",
      "Epoch 4/5\n",
      "48000/48000 [==============================] - 11s 232us/step - loss: 0.0643 - acc: 0.9814 - val_loss: 0.0905 - val_acc: 0.9763\n",
      "Epoch 5/5\n",
      "48000/48000 [==============================] - 11s 230us/step - loss: 0.0537 - acc: 0.9845 - val_loss: 0.1080 - val_acc: 0.9719\n",
      "MLP Error on test set: 2.83%\n",
      "MLP Accuracy on test set: 97.17%\n"
     ]
    }
   ],
   "source": [
    "run_model(n_layers=3)"
   ]
  },
  {
   "cell_type": "code",
   "execution_count": 36,
   "metadata": {},
   "outputs": [
    {
     "name": "stdout",
     "output_type": "stream",
     "text": [
      "Train on 48000 samples, validate on 12000 samples\n",
      "Epoch 1/5\n",
      "48000/48000 [==============================] - 13s 268us/step - loss: 0.2465 - acc: 0.9264 - val_loss: 0.1296 - val_acc: 0.9652\n",
      "Epoch 2/5\n",
      "48000/48000 [==============================] - 12s 251us/step - loss: 0.1230 - acc: 0.9649 - val_loss: 0.1268 - val_acc: 0.9648\n",
      "Epoch 3/5\n",
      "48000/48000 [==============================] - 12s 253us/step - loss: 0.0903 - acc: 0.9739 - val_loss: 0.1212 - val_acc: 0.9683\n",
      "Epoch 4/5\n",
      "48000/48000 [==============================] - 12s 256us/step - loss: 0.0710 - acc: 0.9802 - val_loss: 0.1103 - val_acc: 0.9708\n",
      "Epoch 5/5\n",
      "48000/48000 [==============================] - 12s 255us/step - loss: 0.0624 - acc: 0.9827 - val_loss: 0.1356 - val_acc: 0.9675\n",
      "MLP Error on test set: 3.27%\n",
      "MLP Accuracy on test set: 96.73%\n"
     ]
    }
   ],
   "source": [
    "run_model(n_layers=4)"
   ]
  },
  {
   "cell_type": "markdown",
   "metadata": {},
   "source": [
    "> *ANSWER:* As the number of layers increases, training time also increases, but accuracy tends to decreases"
   ]
  },
  {
   "cell_type": "markdown",
   "metadata": {},
   "source": [
    "## E. Number of epochs"
   ]
  },
  {
   "cell_type": "code",
   "execution_count": 37,
   "metadata": {},
   "outputs": [
    {
     "name": "stdout",
     "output_type": "stream",
     "text": [
      "Train on 48000 samples, validate on 12000 samples\n",
      "Epoch 1/10\n",
      "48000/48000 [==============================] - 9s 181us/step - loss: 0.2353 - acc: 0.9324 - val_loss: 0.1326 - val_acc: 0.9614\n",
      "Epoch 2/10\n",
      "48000/48000 [==============================] - 8s 166us/step - loss: 0.0975 - acc: 0.9700 - val_loss: 0.0922 - val_acc: 0.9731\n",
      "Epoch 3/10\n",
      "48000/48000 [==============================] - 8s 173us/step - loss: 0.0638 - acc: 0.9798 - val_loss: 0.0859 - val_acc: 0.9751\n",
      "Epoch 4/10\n",
      "48000/48000 [==============================] - 9s 189us/step - loss: 0.0450 - acc: 0.9855 - val_loss: 0.0727 - val_acc: 0.9785\n",
      "Epoch 5/10\n",
      "48000/48000 [==============================] - 8s 160us/step - loss: 0.0322 - acc: 0.9900 - val_loss: 0.0783 - val_acc: 0.9776\n",
      "Epoch 6/10\n",
      "48000/48000 [==============================] - 8s 160us/step - loss: 0.0237 - acc: 0.9926 - val_loss: 0.0769 - val_acc: 0.9790\n",
      "Epoch 7/10\n",
      "48000/48000 [==============================] - 8s 160us/step - loss: 0.0198 - acc: 0.9938 - val_loss: 0.0786 - val_acc: 0.9805\n",
      "Epoch 8/10\n",
      "48000/48000 [==============================] - 8s 161us/step - loss: 0.0149 - acc: 0.9951 - val_loss: 0.0984 - val_acc: 0.9762\n",
      "Epoch 9/10\n",
      "48000/48000 [==============================] - 8s 159us/step - loss: 0.0115 - acc: 0.9962 - val_loss: 0.0908 - val_acc: 0.9777\n",
      "Epoch 10/10\n",
      "48000/48000 [==============================] - 8s 165us/step - loss: 0.0106 - acc: 0.9967 - val_loss: 0.0818 - val_acc: 0.9812\n",
      "MLP Error on test set: 1.89%\n",
      "MLP Accuracy on test set: 98.11%\n"
     ]
    }
   ],
   "source": [
    "run_model(n_epochs=10)"
   ]
  },
  {
   "cell_type": "markdown",
   "metadata": {},
   "source": [
    "> *ANSWER:* Increasing the number of epochs improves training, validation and even test accuracy."
   ]
  },
  {
   "cell_type": "markdown",
   "metadata": {},
   "source": [
    "## F. Different optimizers such as SGD, RMSprop"
   ]
  },
  {
   "cell_type": "code",
   "execution_count": 38,
   "metadata": {},
   "outputs": [
    {
     "name": "stdout",
     "output_type": "stream",
     "text": [
      "Train on 48000 samples, validate on 12000 samples\n",
      "Epoch 1/5\n",
      "48000/48000 [==============================] - 7s 152us/step - loss: 0.6810 - acc: 0.8365 - val_loss: 0.3886 - val_acc: 0.8942\n",
      "Epoch 2/5\n",
      "48000/48000 [==============================] - 7s 137us/step - loss: 0.3476 - acc: 0.9039 - val_loss: 0.3139 - val_acc: 0.9113\n",
      "Epoch 3/5\n",
      "48000/48000 [==============================] - 7s 147us/step - loss: 0.2958 - acc: 0.9164 - val_loss: 0.2788 - val_acc: 0.9209\n",
      "Epoch 4/5\n",
      "48000/48000 [==============================] - 6s 134us/step - loss: 0.2649 - acc: 0.9259 - val_loss: 0.2561 - val_acc: 0.9277\n",
      "Epoch 5/5\n",
      "48000/48000 [==============================] - 6s 135us/step - loss: 0.2422 - acc: 0.9322 - val_loss: 0.2373 - val_acc: 0.9337\n",
      "MLP Error on test set: 6.33%\n",
      "MLP Accuracy on test set: 93.67%\n"
     ]
    }
   ],
   "source": [
    "run_model(optimiser='sgd')"
   ]
  },
  {
   "cell_type": "code",
   "execution_count": 39,
   "metadata": {},
   "outputs": [
    {
     "name": "stdout",
     "output_type": "stream",
     "text": [
      "Train on 48000 samples, validate on 12000 samples\n",
      "Epoch 1/5\n",
      "48000/48000 [==============================] - 8s 172us/step - loss: 0.2341 - acc: 0.9311 - val_loss: 0.1306 - val_acc: 0.9623\n",
      "Epoch 2/5\n",
      "48000/48000 [==============================] - 7s 155us/step - loss: 0.1015 - acc: 0.9695 - val_loss: 0.1006 - val_acc: 0.9738\n",
      "Epoch 3/5\n",
      "48000/48000 [==============================] - 7s 149us/step - loss: 0.0723 - acc: 0.9789 - val_loss: 0.0904 - val_acc: 0.9770\n",
      "Epoch 4/5\n",
      "48000/48000 [==============================] - 7s 149us/step - loss: 0.0551 - acc: 0.9838 - val_loss: 0.0914 - val_acc: 0.9780\n",
      "Epoch 5/5\n",
      "48000/48000 [==============================] - 7s 147us/step - loss: 0.0446 - acc: 0.9871 - val_loss: 0.0947 - val_acc: 0.9776\n",
      "MLP Error on test set: 2.53%\n",
      "MLP Accuracy on test set: 97.47%\n"
     ]
    }
   ],
   "source": [
    "run_model(optimiser='rmsprop')"
   ]
  },
  {
   "cell_type": "markdown",
   "metadata": {},
   "source": [
    "> *ANSWER:* Both SGD and RMSprop perform worse than Adam optimiser"
   ]
  },
  {
   "cell_type": "code",
   "execution_count": null,
   "metadata": {},
   "outputs": [],
   "source": []
  }
 ],
 "metadata": {
  "kernelspec": {
   "display_name": "Python 3",
   "language": "python",
   "name": "python3"
  },
  "language_info": {
   "codemirror_mode": {
    "name": "ipython",
    "version": 3
   },
   "file_extension": ".py",
   "mimetype": "text/x-python",
   "name": "python",
   "nbconvert_exporter": "python",
   "pygments_lexer": "ipython3",
   "version": "3.5.6"
  }
 },
 "nbformat": 4,
 "nbformat_minor": 2
}

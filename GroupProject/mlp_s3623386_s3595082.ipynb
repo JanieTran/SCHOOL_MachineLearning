{
 "cells": [
  {
   "cell_type": "markdown",
   "metadata": {},
   "source": [
    "# ASSIGNMENT 4 - GROUP PROJECT - Multi-Layer Perceptron\n",
    "\n",
    "**Student 1:** s3623386 - Tran Thi Hong Phuong</br>\n",
    "**Student 2:** s3595082 - Le Gia Bao"
   ]
  },
  {
   "cell_type": "markdown",
   "metadata": {},
   "source": [
    "# Import Dataset"
   ]
  },
  {
   "cell_type": "code",
   "execution_count": 1,
   "metadata": {},
   "outputs": [],
   "source": [
    "import os, skimage.io\n",
    "import numpy as np\n",
    "\n",
    "# Set random seed for reproducible results\n",
    "from numpy.random import seed\n",
    "seed(1)\n",
    "\n",
    "def load_data(data_directory):\n",
    "    directories = [d for d in os.listdir(data_directory) if os.path.isdir(os.path.join(data_directory, d))]\n",
    "    labels = []\n",
    "    images = []\n",
    "    for d in directories:\n",
    "        label_directory = os.path.join(data_directory, d)\n",
    "        \n",
    "        file_names = [os.path.join(label_directory, f) for f in os.listdir(label_directory)]\n",
    "        for f in file_names:\n",
    "            # Open image and normalise within 0 and 1\n",
    "            images.append(skimage.io.imread(f) / 255.)\n",
    "            labels.append(int(d))\n",
    "            \n",
    "    return np.asarray(images), np.asarray(labels)"
   ]
  },
  {
   "cell_type": "code",
   "execution_count": 2,
   "metadata": {},
   "outputs": [
    {
     "name": "stdout",
     "output_type": "stream",
     "text": [
      "X:  (60000, 28, 28)\n",
      "Y:  (60000,)\n",
      "X_test:  (10000, 28, 28)\n",
      "Y_test:  (10000,)\n"
     ]
    }
   ],
   "source": [
    "X, Y = load_data(os.path.join('MNIST', 'training'))\n",
    "X_test, Y_test = load_data(os.path.join('MNIST', 'testing'))\n",
    "\n",
    "print('X: ', X.shape)\n",
    "print('Y: ', Y.shape)\n",
    "print('X_test: ', X_test.shape)\n",
    "print('Y_test: ', Y_test.shape)"
   ]
  },
  {
   "cell_type": "markdown",
   "metadata": {},
   "source": [
    "Defintion of each label"
   ]
  },
  {
   "cell_type": "code",
   "execution_count": 3,
   "metadata": {},
   "outputs": [],
   "source": [
    "labels_def = {\n",
    "    0: 'T-shirt/top',\n",
    "    1: 'Trouser',\n",
    "    2: 'Pullover',\n",
    "    3: 'Dress',\n",
    "    4: 'Coat',\n",
    "    5: 'Sandal',\n",
    "    6: 'Shirt',\n",
    "    7: 'Sneaker',\n",
    "    8: 'Bag',\n",
    "    9: 'Ankle boot'\n",
    "}"
   ]
  },
  {
   "cell_type": "markdown",
   "metadata": {},
   "source": [
    "Sample plot"
   ]
  },
  {
   "cell_type": "code",
   "execution_count": 4,
   "metadata": {},
   "outputs": [
    {
     "data": {
      "text/plain": [
       "'T-shirt/top'"
      ]
     },
     "execution_count": 4,
     "metadata": {},
     "output_type": "execute_result"
    },
    {
     "data": {
      "image/png": "[encoded data removed]",
      "text/plain": [
       "<Figure size 432x288 with 1 Axes>"
      ]
     },
     "metadata": {
      "needs_background": "light"
     },
     "output_type": "display_data"
    }
   ],
   "source": [
    "import matplotlib.pyplot as plt\n",
    "\n",
    "# Plot one example for testing\n",
    "plt.imshow(X[19])\n",
    "labels_def[Y[19]]"
   ]
  },
  {
   "cell_type": "markdown",
   "metadata": {},
   "source": [
    "Input flattening"
   ]
  },
  {
   "cell_type": "code",
   "execution_count": 5,
   "metadata": {},
   "outputs": [
    {
     "name": "stdout",
     "output_type": "stream",
     "text": [
      "X_flattened: (60000, 784)\n",
      "X_test_flattend: (10000, 784)\n"
     ]
    }
   ],
   "source": [
    "num_pixels = X.shape[1] * X.shape[2]\n",
    "X_flattened = X.reshape(X.shape[0], num_pixels).astype('float32')\n",
    "X_test_flattened = X_test.reshape(X_test.shape[0], num_pixels).astype('float32')\n",
    "\n",
    "print('X_flattened:', X_flattened.shape)\n",
    "print('X_test_flattend:', X_test_flattened.shape)"
   ]
  },
  {
   "cell_type": "markdown",
   "metadata": {},
   "source": [
    "Convert target arrays to factors, so that targets have shape `(n_samples, n_classes)`"
   ]
  },
  {
   "cell_type": "code",
   "execution_count": 6,
   "metadata": {},
   "outputs": [
    {
     "name": "stderr",
     "output_type": "stream",
     "text": [
      "Using TensorFlow backend.\n"
     ]
    },
    {
     "name": "stdout",
     "output_type": "stream",
     "text": [
      "Y_cat: (60000, 10)\n",
      "Y_test: (10000, 10)\n",
      "num_classes: 10\n"
     ]
    }
   ],
   "source": [
    "from keras.utils.np_utils import to_categorical\n",
    "\n",
    "Y_cat = to_categorical(Y)\n",
    "Y_test = to_categorical(Y_test)\n",
    "num_classes = Y_cat.shape[1]\n",
    "\n",
    "print('Y_cat:', Y_cat.shape)\n",
    "print('Y_test:', Y_test.shape)\n",
    "print('num_classes:', num_classes)"
   ]
  },
  {
   "cell_type": "markdown",
   "metadata": {},
   "source": [
    "# Single Split of Dataset"
   ]
  },
  {
   "cell_type": "code",
   "execution_count": 7,
   "metadata": {},
   "outputs": [
    {
     "name": "stdout",
     "output_type": "stream",
     "text": [
      "X_train:  (54000, 784)\n",
      "Y_train:  (54000, 10)\n",
      "X_val:  (6000, 784)\n",
      "Y_val:  (6000, 10)\n"
     ]
    }
   ],
   "source": [
    "from sklearn.model_selection import train_test_split\n",
    "\n",
    "X_train, X_val, Y_train, Y_val = train_test_split(X_flattened, Y_cat, test_size=0.1, random_state=1)\n",
    "\n",
    "print('X_train: ', X_train.shape)\n",
    "print('Y_train: ', Y_train.shape)\n",
    "print('X_val: ', X_val.shape)\n",
    "print('Y_val: ', Y_val.shape)"
   ]
  },
  {
   "cell_type": "code",
   "execution_count": 8,
   "metadata": {},
   "outputs": [],
   "source": [
    "from keras.models import Sequential\n",
    "from keras.layers.core import Dense, Activation\n",
    "\n",
    "def run_model(n_nodes, X_train, Y_train, X_val, Y_val):\n",
    "    # Building model\n",
    "    model = Sequential()\n",
    "    model.add(Dense(n_nodes, input_dim=num_pixels, activation='relu'))\n",
    "    model.add(Dense(num_classes, activation='softmax'))\n",
    "    model.compile(loss='categorical_crossentropy', optimizer='adam', metrics=['accuracy'])\n",
    "    model.fit(X_train, Y_train, validation_data=(X_val, Y_val), epochs=10)\n",
    "    \n",
    "    # Evaluation\n",
    "    train_score = model.evaluate(X_train, Y_train)\n",
    "    val_score = model.evaluate(X_val, Y_val)\n",
    "    print(\"\\nMLP Accuracy on train set: %.2f%%\" % (train_score[1]*100))\n",
    "    print(\"\\nMLP Accuracy on val set: %.2f%%\" % (val_score[1]*100))\n",
    "    \n",
    "    return model, train_score, val_score"
   ]
  },
  {
   "cell_type": "code",
   "execution_count": 9,
   "metadata": {},
   "outputs": [
    {
     "name": "stdout",
     "output_type": "stream",
     "text": [
      "\n",
      "-----n_nodes = 78-----\n",
      "Train on 54000 samples, validate on 6000 samples\n",
      "Epoch 1/10\n",
      "54000/54000 [==============================] - 11s 213us/step - loss: 0.5241 - acc: 0.8161 - val_loss: 0.4096 - val_acc: 0.8392\n",
      "Epoch 2/10\n",
      "54000/54000 [==============================] - 7s 124us/step - loss: 0.3965 - acc: 0.8596 - val_loss: 0.3643 - val_acc: 0.8632\n",
      "Epoch 3/10\n",
      "54000/54000 [==============================] - 7s 125us/step - loss: 0.3576 - acc: 0.8696 - val_loss: 0.3526 - val_acc: 0.8705\n",
      "Epoch 4/10\n",
      "54000/54000 [==============================] - 7s 125us/step - loss: 0.3296 - acc: 0.8799 - val_loss: 0.3534 - val_acc: 0.8703\n",
      "Epoch 5/10\n",
      "54000/54000 [==============================] - 7s 125us/step - loss: 0.3123 - acc: 0.8863 - val_loss: 0.3336 - val_acc: 0.8768\n",
      "Epoch 6/10\n",
      "54000/54000 [==============================] - 7s 125us/step - loss: 0.2981 - acc: 0.8909 - val_loss: 0.3109 - val_acc: 0.8877\n",
      "Epoch 7/10\n",
      "54000/54000 [==============================] - 7s 125us/step - loss: 0.2853 - acc: 0.8950 - val_loss: 0.3155 - val_acc: 0.8837\n",
      "Epoch 8/10\n",
      "54000/54000 [==============================] - 6s 119us/step - loss: 0.2739 - acc: 0.8988 - val_loss: 0.3152 - val_acc: 0.8858\n",
      "Epoch 9/10\n",
      "54000/54000 [==============================] - 7s 125us/step - loss: 0.2643 - acc: 0.9025 - val_loss: 0.3223 - val_acc: 0.8857\n",
      "Epoch 10/10\n",
      "54000/54000 [==============================] - 7s 125us/step - loss: 0.2581 - acc: 0.9041 - val_loss: 0.3066 - val_acc: 0.8888\n",
      "54000/54000 [==============================] - 2s 42us/step\n",
      "6000/6000 [==============================] - 0s 42us/step\n",
      "\n",
      "MLP Accuracy on train set: 91.25%\n",
      "\n",
      "MLP Accuracy on val set: 88.88%\n",
      "\n",
      "-----n_nodes = 128-----\n",
      "Train on 54000 samples, validate on 6000 samples\n",
      "Epoch 1/10\n",
      "54000/54000 [==============================] - 8s 140us/step - loss: 0.5138 - acc: 0.8204 - val_loss: 0.4509 - val_acc: 0.8345\n",
      "Epoch 2/10\n",
      "54000/54000 [==============================] - 7s 128us/step - loss: 0.3840 - acc: 0.8608 - val_loss: 0.3378 - val_acc: 0.8732\n",
      "Epoch 3/10\n",
      "54000/54000 [==============================] - 7s 125us/step - loss: 0.3453 - acc: 0.8745 - val_loss: 0.3417 - val_acc: 0.8722\n",
      "Epoch 4/10\n",
      "54000/54000 [==============================] - 7s 125us/step - loss: 0.3192 - acc: 0.8846 - val_loss: 0.3285 - val_acc: 0.8760\n",
      "Epoch 5/10\n",
      "54000/54000 [==============================] - 7s 126us/step - loss: 0.2994 - acc: 0.8896 - val_loss: 0.3541 - val_acc: 0.8650\n",
      "Epoch 6/10\n",
      "54000/54000 [==============================] - 6s 120us/step - loss: 0.2856 - acc: 0.8942 - val_loss: 0.3110 - val_acc: 0.8865\n",
      "Epoch 7/10\n",
      "54000/54000 [==============================] - 7s 125us/step - loss: 0.2742 - acc: 0.8994 - val_loss: 0.2930 - val_acc: 0.8902\n",
      "Epoch 8/10\n",
      "54000/54000 [==============================] - 7s 126us/step - loss: 0.2621 - acc: 0.9024 - val_loss: 0.3286 - val_acc: 0.8738\n",
      "Epoch 9/10\n",
      "54000/54000 [==============================] - 7s 121us/step - loss: 0.2533 - acc: 0.9053 - val_loss: 0.2989 - val_acc: 0.8942\n",
      "Epoch 10/10\n",
      "54000/54000 [==============================] - 6s 119us/step - loss: 0.2420 - acc: 0.9091 - val_loss: 0.2937 - val_acc: 0.8950\n",
      "54000/54000 [==============================] - 2s 43us/step\n",
      "6000/6000 [==============================] - 0s 43us/step\n",
      "\n",
      "MLP Accuracy on train set: 91.84%\n",
      "\n",
      "MLP Accuracy on val set: 89.50%\n",
      "\n",
      "-----n_nodes = 256-----\n",
      "Train on 54000 samples, validate on 6000 samples\n",
      "Epoch 1/10\n",
      "54000/54000 [==============================] - 7s 135us/step - loss: 0.4982 - acc: 0.8233 - val_loss: 0.4215 - val_acc: 0.8397\n",
      "Epoch 2/10\n",
      "54000/54000 [==============================] - 7s 130us/step - loss: 0.3720 - acc: 0.8666 - val_loss: 0.3403 - val_acc: 0.8733\n",
      "Epoch 3/10\n",
      "54000/54000 [==============================] - 7s 128us/step - loss: 0.3358 - acc: 0.8771 - val_loss: 0.3444 - val_acc: 0.8743\n",
      "Epoch 4/10\n",
      "54000/54000 [==============================] - 7s 138us/step - loss: 0.3096 - acc: 0.8861 - val_loss: 0.3223 - val_acc: 0.8847\n",
      "Epoch 5/10\n",
      "54000/54000 [==============================] - 7s 138us/step - loss: 0.2929 - acc: 0.8920 - val_loss: 0.3041 - val_acc: 0.8868\n",
      "Epoch 6/10\n",
      "54000/54000 [==============================] - 8s 143us/step - loss: 0.2766 - acc: 0.8979 - val_loss: 0.3200 - val_acc: 0.8863\n",
      "Epoch 7/10\n",
      "54000/54000 [==============================] - 8s 140us/step - loss: 0.2623 - acc: 0.9031 - val_loss: 0.2887 - val_acc: 0.8942\n",
      "Epoch 8/10\n",
      "54000/54000 [==============================] - 8s 141us/step - loss: 0.2501 - acc: 0.9066 - val_loss: 0.2939 - val_acc: 0.8957\n",
      "Epoch 9/10\n",
      "54000/54000 [==============================] - 8s 142us/step - loss: 0.2394 - acc: 0.9108 - val_loss: 0.2879 - val_acc: 0.8993\n",
      "Epoch 10/10\n",
      "54000/54000 [==============================] - 8s 140us/step - loss: 0.2309 - acc: 0.9132 - val_loss: 0.2962 - val_acc: 0.8965\n",
      "54000/54000 [==============================] - 2s 45us/step\n",
      "6000/6000 [==============================] - 0s 47us/step\n",
      "\n",
      "MLP Accuracy on train set: 92.26%\n",
      "\n",
      "MLP Accuracy on val set: 89.65%\n",
      "\n",
      "-----n_nodes = 512-----\n",
      "Train on 54000 samples, validate on 6000 samples\n",
      "Epoch 1/10\n",
      "54000/54000 [==============================] - 9s 165us/step - loss: 0.4870 - acc: 0.8273 - val_loss: 0.3615 - val_acc: 0.8685\n",
      "Epoch 2/10\n",
      "54000/54000 [==============================] - 9s 159us/step - loss: 0.3654 - acc: 0.8654 - val_loss: 0.3404 - val_acc: 0.8723\n",
      "Epoch 3/10\n",
      "54000/54000 [==============================] - 8s 157us/step - loss: 0.3282 - acc: 0.8800 - val_loss: 0.3365 - val_acc: 0.8773\n",
      "Epoch 4/10\n",
      "54000/54000 [==============================] - 9s 158us/step - loss: 0.3047 - acc: 0.8868 - val_loss: 0.3169 - val_acc: 0.8892\n",
      "Epoch 5/10\n",
      "54000/54000 [==============================] - 8s 153us/step - loss: 0.2835 - acc: 0.8949 - val_loss: 0.3270 - val_acc: 0.8792\n",
      "Epoch 6/10\n",
      "54000/54000 [==============================] - 8s 149us/step - loss: 0.2691 - acc: 0.9009 - val_loss: 0.3031 - val_acc: 0.8922\n",
      "Epoch 7/10\n",
      "54000/54000 [==============================] - 8s 147us/step - loss: 0.2590 - acc: 0.9032 - val_loss: 0.3230 - val_acc: 0.8845\n",
      "Epoch 8/10\n",
      "54000/54000 [==============================] - 8s 145us/step - loss: 0.2439 - acc: 0.9082 - val_loss: 0.3056 - val_acc: 0.8892\n",
      "Epoch 9/10\n",
      "54000/54000 [==============================] - 8s 148us/step - loss: 0.2333 - acc: 0.9113 - val_loss: 0.3073 - val_acc: 0.8932\n",
      "Epoch 10/10\n",
      "54000/54000 [==============================] - 8s 146us/step - loss: 0.2227 - acc: 0.9160 - val_loss: 0.2947 - val_acc: 0.8970\n",
      "54000/54000 [==============================] - 2s 42us/step\n",
      "6000/6000 [==============================] - 0s 43us/step\n",
      "\n",
      "MLP Accuracy on train set: 92.46%\n",
      "\n",
      "MLP Accuracy on val set: 89.70%\n",
      "\n",
      "-----n_nodes = 784-----\n",
      "Train on 54000 samples, validate on 6000 samples\n",
      "Epoch 1/10\n",
      "54000/54000 [==============================] - 10s 178us/step - loss: 0.4801 - acc: 0.8287 - val_loss: 0.4256 - val_acc: 0.8408\n",
      "Epoch 2/10\n",
      "54000/54000 [==============================] - 9s 168us/step - loss: 0.3641 - acc: 0.8676 - val_loss: 0.3399 - val_acc: 0.8758\n",
      "Epoch 3/10\n",
      "54000/54000 [==============================] - 9s 172us/step - loss: 0.3274 - acc: 0.8785 - val_loss: 0.3198 - val_acc: 0.8790\n",
      "Epoch 4/10\n",
      "54000/54000 [==============================] - 9s 170us/step - loss: 0.3036 - acc: 0.8885 - val_loss: 0.3517 - val_acc: 0.8648\n",
      "Epoch 5/10\n",
      "54000/54000 [==============================] - 9s 170us/step - loss: 0.2842 - acc: 0.8935 - val_loss: 0.2944 - val_acc: 0.8918\n",
      "Epoch 6/10\n",
      "54000/54000 [==============================] - 9s 167us/step - loss: 0.2683 - acc: 0.8991 - val_loss: 0.2933 - val_acc: 0.8910\n",
      "Epoch 7/10\n",
      "54000/54000 [==============================] - 9s 170us/step - loss: 0.2553 - acc: 0.9045 - val_loss: 0.2913 - val_acc: 0.8942\n",
      "Epoch 8/10\n",
      "54000/54000 [==============================] - 9s 170us/step - loss: 0.2428 - acc: 0.9091 - val_loss: 0.2942 - val_acc: 0.8958\n",
      "Epoch 9/10\n",
      "54000/54000 [==============================] - 9s 169us/step - loss: 0.2323 - acc: 0.9131 - val_loss: 0.2982 - val_acc: 0.8988\n",
      "Epoch 10/10\n",
      "54000/54000 [==============================] - 9s 172us/step - loss: 0.2228 - acc: 0.9159 - val_loss: 0.2987 - val_acc: 0.8977\n",
      "54000/54000 [==============================] - 2s 45us/step\n",
      "6000/6000 [==============================] - 0s 47us/step\n",
      "\n",
      "MLP Accuracy on train set: 92.38%\n",
      "\n",
      "MLP Accuracy on val set: 89.77%\n"
     ]
    }
   ],
   "source": [
    "import pandas as pd\n",
    "\n",
    "n_nodes = [78, 128, 256, 512, 784]\n",
    "\n",
    "# Dataframe to store accuracy of each number of nodes\n",
    "experiment_accuracy = pd.DataFrame(columns=['Accuracy'], index=n_nodes)\n",
    "# Keep track of the configuration with best performance\n",
    "best_single_val_acc = 0\n",
    "best_n_nodes = 0\n",
    "\n",
    "for n in n_nodes:\n",
    "    print('\\n-----n_nodes = {}-----'.format(n))\n",
    "    # Retrieve validation score for current number of nodes\n",
    "    _, _, val_score = run_model(n_nodes=n, X_train=X_train, Y_train=Y_train, X_val=X_val, Y_val=Y_val)\n",
    "    # Save results\n",
    "    experiment_accuracy.loc[n] = val_score[1]\n",
    "    if val_score[1] > best_single_val_acc:\n",
    "        best_single_val_acc = val_score[1]\n",
    "        best_n_nodes = n"
   ]
  },
  {
   "cell_type": "markdown",
   "metadata": {},
   "source": [
    "Accuracy over number of nodes and the number of nodes that gives best performance"
   ]
  },
  {
   "cell_type": "code",
   "execution_count": 29,
   "metadata": {},
   "outputs": [
    {
     "name": "stdout",
     "output_type": "stream",
     "text": [
      "Best n_nodes: 784\n"
     ]
    },
    {
     "data": {
      "image/png": "[encoded data removed]",
      "text/plain": [
       "<Figure size 432x288 with 1 Axes>"
      ]
     },
     "metadata": {
      "needs_background": "light"
     },
     "output_type": "display_data"
    }
   ],
   "source": [
    "print('Best n_nodes:', best_n_nodes)\n",
    "\n",
    "fig, ax = plt.subplots()\n",
    "plt.plot(experiment_accuracy)\n",
    "ax.set_xlabel('Number of nodes')\n",
    "ax.set_ylabel('Accuracy')\n",
    "plt.show()"
   ]
  },
  {
   "cell_type": "markdown",
   "metadata": {},
   "source": [
    "# K-Fold Cross Validation"
   ]
  },
  {
   "cell_type": "code",
   "execution_count": 19,
   "metadata": {},
   "outputs": [
    {
     "name": "stdout",
     "output_type": "stream",
     "text": [
      "\n",
      "-----Fold 1-----\n",
      "Train on 48000 samples, validate on 12000 samples\n",
      "Epoch 1/10\n",
      "48000/48000 [==============================] - 11s 221us/step - loss: 0.4930 - acc: 0.8231 - val_loss: 0.4042 - val_acc: 0.8481\n",
      "Epoch 2/10\n",
      "48000/48000 [==============================] - 10s 201us/step - loss: 0.3715 - acc: 0.8631 - val_loss: 0.3865 - val_acc: 0.8552\n",
      "Epoch 3/10\n",
      "48000/48000 [==============================] - 10s 200us/step - loss: 0.3334 - acc: 0.8780 - val_loss: 0.3242 - val_acc: 0.8779\n",
      "Epoch 4/10\n",
      "48000/48000 [==============================] - 10s 199us/step - loss: 0.3094 - acc: 0.8857 - val_loss: 0.3102 - val_acc: 0.8881\n",
      "Epoch 5/10\n",
      "48000/48000 [==============================] - 10s 202us/step - loss: 0.2874 - acc: 0.8936 - val_loss: 0.3158 - val_acc: 0.8858\n",
      "Epoch 6/10\n",
      "48000/48000 [==============================] - 10s 200us/step - loss: 0.2702 - acc: 0.9001 - val_loss: 0.3075 - val_acc: 0.8842\n",
      "Epoch 7/10\n",
      "48000/48000 [==============================] - 9s 197us/step - loss: 0.2599 - acc: 0.9026 - val_loss: 0.3045 - val_acc: 0.8892\n",
      "Epoch 8/10\n",
      "48000/48000 [==============================] - 9s 196us/step - loss: 0.2459 - acc: 0.9079 - val_loss: 0.3161 - val_acc: 0.8850\n",
      "Epoch 9/10\n",
      "48000/48000 [==============================] - 9s 195us/step - loss: 0.2338 - acc: 0.9128 - val_loss: 0.3088 - val_acc: 0.8905\n",
      "Epoch 10/10\n",
      "48000/48000 [==============================] - 9s 197us/step - loss: 0.2262 - acc: 0.9151 - val_loss: 0.3034 - val_acc: 0.8915\n",
      "48000/48000 [==============================] - 3s 54us/step\n",
      "12000/12000 [==============================] - 1s 52us/step\n",
      "\n",
      "MLP Accuracy on train set: 92.42%\n",
      "\n",
      "MLP Accuracy on val set: 89.15%\n",
      "\n",
      "-----Fold 2-----\n",
      "Train on 48000 samples, validate on 12000 samples\n",
      "Epoch 1/10\n",
      "48000/48000 [==============================] - 10s 214us/step - loss: 0.4863 - acc: 0.8289 - val_loss: 0.3905 - val_acc: 0.8573\n",
      "Epoch 2/10\n",
      "48000/48000 [==============================] - 9s 198us/step - loss: 0.3683 - acc: 0.8658 - val_loss: 0.3713 - val_acc: 0.8623\n",
      "Epoch 3/10\n",
      "48000/48000 [==============================] - 9s 192us/step - loss: 0.3307 - acc: 0.8793 - val_loss: 0.3420 - val_acc: 0.8716\n",
      "Epoch 4/10\n",
      "48000/48000 [==============================] - 9s 191us/step - loss: 0.3053 - acc: 0.8871 - val_loss: 0.3266 - val_acc: 0.8813\n",
      "Epoch 5/10\n",
      "48000/48000 [==============================] - 9s 191us/step - loss: 0.2858 - acc: 0.8936 - val_loss: 0.3457 - val_acc: 0.8721\n",
      "Epoch 6/10\n",
      "48000/48000 [==============================] - 9s 190us/step - loss: 0.2723 - acc: 0.8986 - val_loss: 0.3331 - val_acc: 0.8772\n",
      "Epoch 7/10\n",
      "48000/48000 [==============================] - 9s 188us/step - loss: 0.2600 - acc: 0.9035 - val_loss: 0.3130 - val_acc: 0.8836\n",
      "Epoch 8/10\n",
      "48000/48000 [==============================] - 9s 193us/step - loss: 0.2476 - acc: 0.9073 - val_loss: 0.3062 - val_acc: 0.8867\n",
      "Epoch 9/10\n",
      "48000/48000 [==============================] - 9s 192us/step - loss: 0.2375 - acc: 0.9106 - val_loss: 0.3094 - val_acc: 0.8882\n",
      "Epoch 10/10\n",
      "48000/48000 [==============================] - 9s 189us/step - loss: 0.2269 - acc: 0.9145 - val_loss: 0.3379 - val_acc: 0.8817\n",
      "48000/48000 [==============================] - 2s 50us/step\n",
      "12000/12000 [==============================] - 1s 50us/step\n",
      "\n",
      "MLP Accuracy on train set: 91.46%\n",
      "\n",
      "MLP Accuracy on val set: 88.17%\n",
      "\n",
      "-----Fold 3-----\n",
      "Train on 48000 samples, validate on 12000 samples\n",
      "Epoch 1/10\n",
      "48000/48000 [==============================] - 10s 207us/step - loss: 0.4867 - acc: 0.8266 - val_loss: 0.4023 - val_acc: 0.8531\n",
      "Epoch 2/10\n",
      "48000/48000 [==============================] - 9s 188us/step - loss: 0.3719 - acc: 0.8636 - val_loss: 0.3374 - val_acc: 0.8767\n",
      "Epoch 3/10\n",
      "48000/48000 [==============================] - 9s 190us/step - loss: 0.3296 - acc: 0.8795 - val_loss: 0.3352 - val_acc: 0.8772\n",
      "Epoch 4/10\n",
      "48000/48000 [==============================] - 9s 189us/step - loss: 0.3042 - acc: 0.8875 - val_loss: 0.3320 - val_acc: 0.8801\n",
      "Epoch 5/10\n",
      "48000/48000 [==============================] - 9s 186us/step - loss: 0.2866 - acc: 0.8937 - val_loss: 0.3200 - val_acc: 0.8863\n",
      "Epoch 6/10\n",
      "48000/48000 [==============================] - 9s 188us/step - loss: 0.2737 - acc: 0.8984 - val_loss: 0.3038 - val_acc: 0.8922\n",
      "Epoch 7/10\n",
      "48000/48000 [==============================] - 9s 187us/step - loss: 0.2575 - acc: 0.9031 - val_loss: 0.2987 - val_acc: 0.8911\n",
      "Epoch 8/10\n",
      "48000/48000 [==============================] - 9s 185us/step - loss: 0.2462 - acc: 0.9064 - val_loss: 0.3426 - val_acc: 0.8804\n",
      "Epoch 9/10\n",
      "48000/48000 [==============================] - 9s 186us/step - loss: 0.2322 - acc: 0.9124 - val_loss: 0.3598 - val_acc: 0.8739\n",
      "Epoch 10/10\n",
      "48000/48000 [==============================] - 9s 185us/step - loss: 0.2238 - acc: 0.9161 - val_loss: 0.3142 - val_acc: 0.8905\n",
      "48000/48000 [==============================] - 2s 50us/step\n",
      "12000/12000 [==============================] - 1s 53us/step\n",
      "\n",
      "MLP Accuracy on train set: 91.99%\n",
      "\n",
      "MLP Accuracy on val set: 89.05%\n",
      "\n",
      "-----Fold 4-----\n",
      "Train on 48000 samples, validate on 12000 samples\n",
      "Epoch 1/10\n",
      "48000/48000 [==============================] - 10s 204us/step - loss: 0.4902 - acc: 0.8251 - val_loss: 0.4245 - val_acc: 0.8474\n",
      "Epoch 2/10\n",
      "48000/48000 [==============================] - 9s 187us/step - loss: 0.3677 - acc: 0.8661 - val_loss: 0.3594 - val_acc: 0.8692\n",
      "Epoch 3/10\n",
      "48000/48000 [==============================] - 9s 186us/step - loss: 0.3283 - acc: 0.8781 - val_loss: 0.3461 - val_acc: 0.8745\n",
      "Epoch 4/10\n",
      "48000/48000 [==============================] - 9s 184us/step - loss: 0.3033 - acc: 0.8878 - val_loss: 0.3683 - val_acc: 0.8716\n",
      "Epoch 5/10\n",
      "48000/48000 [==============================] - 9s 183us/step - loss: 0.2849 - acc: 0.8929 - val_loss: 0.3343 - val_acc: 0.8801\n",
      "Epoch 6/10\n",
      "48000/48000 [==============================] - 9s 183us/step - loss: 0.2675 - acc: 0.9005 - val_loss: 0.3301 - val_acc: 0.8838\n",
      "Epoch 7/10\n",
      "48000/48000 [==============================] - 9s 182us/step - loss: 0.2548 - acc: 0.9058 - val_loss: 0.3187 - val_acc: 0.8862\n",
      "Epoch 8/10\n",
      "48000/48000 [==============================] - 9s 184us/step - loss: 0.2421 - acc: 0.9091 - val_loss: 0.3151 - val_acc: 0.8868\n",
      "Epoch 9/10\n",
      "48000/48000 [==============================] - 9s 187us/step - loss: 0.2312 - acc: 0.9145 - val_loss: 0.3291 - val_acc: 0.8857\n",
      "Epoch 10/10\n",
      "48000/48000 [==============================] - 9s 183us/step - loss: 0.2261 - acc: 0.9144 - val_loss: 0.3249 - val_acc: 0.8911\n",
      "48000/48000 [==============================] - 2s 51us/step\n",
      "12000/12000 [==============================] - 1s 51us/step\n",
      "\n",
      "MLP Accuracy on train set: 92.62%\n",
      "\n",
      "MLP Accuracy on val set: 89.11%\n",
      "\n",
      "-----Fold 5-----\n",
      "Train on 48000 samples, validate on 12000 samples\n",
      "Epoch 1/10\n",
      "48000/48000 [==============================] - 10s 202us/step - loss: 0.4877 - acc: 0.8261 - val_loss: 0.3836 - val_acc: 0.8640\n",
      "Epoch 2/10\n",
      "48000/48000 [==============================] - 9s 188us/step - loss: 0.3695 - acc: 0.8649 - val_loss: 0.3600 - val_acc: 0.8711\n",
      "Epoch 3/10\n",
      "48000/48000 [==============================] - 9s 183us/step - loss: 0.3317 - acc: 0.8763 - val_loss: 0.3271 - val_acc: 0.8841\n",
      "Epoch 4/10\n",
      "48000/48000 [==============================] - 9s 185us/step - loss: 0.3050 - acc: 0.8861 - val_loss: 0.3317 - val_acc: 0.8832\n",
      "Epoch 5/10\n",
      "48000/48000 [==============================] - 10s 200us/step - loss: 0.2839 - acc: 0.8933 - val_loss: 0.3103 - val_acc: 0.8892\n",
      "Epoch 6/10\n",
      "48000/48000 [==============================] - 9s 191us/step - loss: 0.2701 - acc: 0.8990 - val_loss: 0.3337 - val_acc: 0.8842\n",
      "Epoch 7/10\n",
      "48000/48000 [==============================] - 9s 186us/step - loss: 0.2561 - acc: 0.9026 - val_loss: 0.3041 - val_acc: 0.8940\n",
      "Epoch 8/10\n",
      "48000/48000 [==============================] - 9s 187us/step - loss: 0.2448 - acc: 0.9086 - val_loss: 0.3109 - val_acc: 0.8908\n",
      "Epoch 9/10\n",
      "48000/48000 [==============================] - 9s 187us/step - loss: 0.2336 - acc: 0.9119 - val_loss: 0.3163 - val_acc: 0.8928\n",
      "Epoch 10/10\n",
      "48000/48000 [==============================] - 9s 186us/step - loss: 0.2249 - acc: 0.9153 - val_loss: 0.3005 - val_acc: 0.8963\n",
      "48000/48000 [==============================] - 3s 53us/step\n",
      "12000/12000 [==============================] - 1s 52us/step\n",
      "\n",
      "MLP Accuracy on train set: 92.83%\n",
      "\n",
      "MLP Accuracy on val set: 89.63%\n"
     ]
    }
   ],
   "source": [
    "from sklearn.model_selection import KFold\n",
    "\n",
    "kf = KFold(n_splits=5, shuffle=True, random_state=1)\n",
    "\n",
    "# Index for logging\n",
    "fold = 0\n",
    "# Placeholders for results\n",
    "kf_val_scores = []\n",
    "best_val_score = 0\n",
    "best_model = None\n",
    "\n",
    "for train_index, val_index in kf.split(X_flattened):\n",
    "    print('\\n-----Fold {}-----'.format(fold + 1))\n",
    "    \n",
    "    # Get training and validation split\n",
    "    X_train = X_flattened[train_index]\n",
    "    Y_train = Y_cat[train_index]\n",
    "    X_val = X_flattened[val_index]\n",
    "    Y_val = Y_cat[val_index]\n",
    "    \n",
    "    # Run model and retrieve train scores and validation scores\n",
    "    model, train_score, val_score = run_model(n_nodes=784, X_train=X_train, Y_train=Y_train, X_val=X_val, Y_val=Y_val)\n",
    "    \n",
    "    # Keep track of best model\n",
    "    if val_score[1] > best_val_score:\n",
    "        best_val_score = val_score[1]\n",
    "        best_model = model\n",
    "        \n",
    "    # Save results for plotting\n",
    "    kf_val_scores.append(val_score[1])\n",
    "    fold += 1"
   ]
  },
  {
   "cell_type": "markdown",
   "metadata": {},
   "source": [
    "Evaluate best model found"
   ]
  },
  {
   "cell_type": "code",
   "execution_count": 26,
   "metadata": {},
   "outputs": [
    {
     "name": "stdout",
     "output_type": "stream",
     "text": [
      "10000/10000 [==============================] - 1s 58us/step\n",
      "Best K-Fold val accuracy: 0.8963333333333333\n",
      "Test accuracy: 0.8892\n"
     ]
    },
    {
     "data": {
      "image/png": "[encoded data removed]",
      "text/plain": [
       "<Figure size 432x288 with 1 Axes>"
      ]
     },
     "metadata": {
      "needs_background": "light"
     },
     "output_type": "display_data"
    }
   ],
   "source": [
    "test_scores = best_model.evaluate(X_test_flattened, Y_test)\n",
    "print('Best K-Fold val accuracy:', best_val_score)\n",
    "print('Test accuracy:', test_scores[1])\n",
    "\n",
    "fig, ax = plt.subplots()\n",
    "plt.plot(kf_val_scores)\n",
    "ax.set_xlabel('Fold')\n",
    "ax.set_ylabel('Accuracy')\n",
    "plt.show()"
   ]
  },
  {
   "cell_type": "code",
   "execution_count": null,
   "metadata": {},
   "outputs": [],
   "source": []
  }
 ],
 "metadata": {
  "kernelspec": {
   "display_name": "Python 3",
   "language": "python",
   "name": "python3"
  },
  "language_info": {
   "codemirror_mode": {
    "name": "ipython",
    "version": 3
   },
   "file_extension": ".py",
   "mimetype": "text/x-python",
   "name": "python",
   "nbconvert_exporter": "python",
   "pygments_lexer": "ipython3",
   "version": "3.5.6"
  }
 },
 "nbformat": 4,
 "nbformat_minor": 2
}

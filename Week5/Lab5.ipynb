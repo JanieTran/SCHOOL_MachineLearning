{
 "cells": [
  {
   "cell_type": "markdown",
   "metadata": {},
   "source": [
    "# WEEK 5 - LAB EXERCISE\n",
    "\n",
    "**Student Name:** Tran Thi Hong Phuong - **Student ID:** s3623386"
   ]
  },
  {
   "cell_type": "markdown",
   "metadata": {},
   "source": [
    "# Introduction\n",
    "\n",
    "In this lab, we will practise performing k-fold cross validation and use it to find the best regularisation parameter for a lasso polynomial regression model.\n",
    "\n",
    "Starting this week, we will progressively provide less code, and would like you to use previous labs and what you know to perform the tasks. This will help you to become proficient at this."
   ]
  },
  {
   "cell_type": "markdown",
   "metadata": {},
   "source": [
    "# Datasets\n",
    "\n",
    "In this lab, we will reuse the Boston House prediction dataset."
   ]
  },
  {
   "cell_type": "markdown",
   "metadata": {},
   "source": [
    "## Load the dataset and prepare it for Cross Validation\n",
    "\n",
    "Start a new Jupyter notebook session. Load the dataset `housing.data.csv`.\n",
    "\n",
    "Setup the dependent and independent variable. For now, use the `RM` column as the IV and `MEDV` as the DV - similar to what we did before. Name the IV and DV as `X` and `Y` respectively."
   ]
  },
  {
   "cell_type": "code",
   "execution_count": 1,
   "metadata": {},
   "outputs": [],
   "source": [
    "import pandas as pd\n",
    "import numpy as np\n",
    "import matplotlib.pyplot as plt\n",
    "pd.set_option('display.max_columns', None)"
   ]
  },
  {
   "cell_type": "code",
   "execution_count": 2,
   "metadata": {},
   "outputs": [
    {
     "data": {
      "text/html": [
       "<div>\n",
       "<style scoped>\n",
       "    .dataframe tbody tr th:only-of-type {\n",
       "        vertical-align: middle;\n",
       "    }\n",
       "\n",
       "    .dataframe tbody tr th {\n",
       "        vertical-align: top;\n",
       "    }\n",
       "\n",
       "    .dataframe thead th {\n",
       "        text-align: right;\n",
       "    }\n",
       "</style>\n",
       "<table border=\"1\" class=\"dataframe\">\n",
       "  <thead>\n",
       "    <tr style=\"text-align: right;\">\n",
       "      <th></th>\n",
       "      <th>CRIM</th>\n",
       "      <th>ZN</th>\n",
       "      <th>INDUS</th>\n",
       "      <th>CHAS</th>\n",
       "      <th>NOX</th>\n",
       "      <th>RM</th>\n",
       "      <th>AGE</th>\n",
       "      <th>DIS</th>\n",
       "      <th>RAD</th>\n",
       "      <th>TAX</th>\n",
       "      <th>PTRATIO</th>\n",
       "      <th>B</th>\n",
       "      <th>LSTAT</th>\n",
       "      <th>MEDV</th>\n",
       "    </tr>\n",
       "  </thead>\n",
       "  <tbody>\n",
       "    <tr>\n",
       "      <th>0</th>\n",
       "      <td>0.00632</td>\n",
       "      <td>18.0</td>\n",
       "      <td>2.31</td>\n",
       "      <td>0</td>\n",
       "      <td>0.538</td>\n",
       "      <td>6.575</td>\n",
       "      <td>65.2</td>\n",
       "      <td>4.0900</td>\n",
       "      <td>1</td>\n",
       "      <td>296.0</td>\n",
       "      <td>15.3</td>\n",
       "      <td>396.90</td>\n",
       "      <td>4.98</td>\n",
       "      <td>24.0</td>\n",
       "    </tr>\n",
       "    <tr>\n",
       "      <th>1</th>\n",
       "      <td>0.02731</td>\n",
       "      <td>0.0</td>\n",
       "      <td>7.07</td>\n",
       "      <td>0</td>\n",
       "      <td>0.469</td>\n",
       "      <td>6.421</td>\n",
       "      <td>78.9</td>\n",
       "      <td>4.9671</td>\n",
       "      <td>2</td>\n",
       "      <td>242.0</td>\n",
       "      <td>17.8</td>\n",
       "      <td>396.90</td>\n",
       "      <td>9.14</td>\n",
       "      <td>21.6</td>\n",
       "    </tr>\n",
       "    <tr>\n",
       "      <th>2</th>\n",
       "      <td>0.02729</td>\n",
       "      <td>0.0</td>\n",
       "      <td>7.07</td>\n",
       "      <td>0</td>\n",
       "      <td>0.469</td>\n",
       "      <td>7.185</td>\n",
       "      <td>61.1</td>\n",
       "      <td>4.9671</td>\n",
       "      <td>2</td>\n",
       "      <td>242.0</td>\n",
       "      <td>17.8</td>\n",
       "      <td>392.83</td>\n",
       "      <td>4.03</td>\n",
       "      <td>34.7</td>\n",
       "    </tr>\n",
       "    <tr>\n",
       "      <th>3</th>\n",
       "      <td>0.03237</td>\n",
       "      <td>0.0</td>\n",
       "      <td>2.18</td>\n",
       "      <td>0</td>\n",
       "      <td>0.458</td>\n",
       "      <td>6.998</td>\n",
       "      <td>45.8</td>\n",
       "      <td>6.0622</td>\n",
       "      <td>3</td>\n",
       "      <td>222.0</td>\n",
       "      <td>18.7</td>\n",
       "      <td>394.63</td>\n",
       "      <td>2.94</td>\n",
       "      <td>33.4</td>\n",
       "    </tr>\n",
       "    <tr>\n",
       "      <th>4</th>\n",
       "      <td>0.06905</td>\n",
       "      <td>0.0</td>\n",
       "      <td>2.18</td>\n",
       "      <td>0</td>\n",
       "      <td>0.458</td>\n",
       "      <td>7.147</td>\n",
       "      <td>54.2</td>\n",
       "      <td>6.0622</td>\n",
       "      <td>3</td>\n",
       "      <td>222.0</td>\n",
       "      <td>18.7</td>\n",
       "      <td>396.90</td>\n",
       "      <td>5.33</td>\n",
       "      <td>36.2</td>\n",
       "    </tr>\n",
       "  </tbody>\n",
       "</table>\n",
       "</div>"
      ],
      "text/plain": [
       "      CRIM    ZN  INDUS  CHAS    NOX     RM   AGE     DIS  RAD    TAX  \\\n",
       "0  0.00632  18.0   2.31     0  0.538  6.575  65.2  4.0900    1  296.0   \n",
       "1  0.02731   0.0   7.07     0  0.469  6.421  78.9  4.9671    2  242.0   \n",
       "2  0.02729   0.0   7.07     0  0.469  7.185  61.1  4.9671    2  242.0   \n",
       "3  0.03237   0.0   2.18     0  0.458  6.998  45.8  6.0622    3  222.0   \n",
       "4  0.06905   0.0   2.18     0  0.458  7.147  54.2  6.0622    3  222.0   \n",
       "\n",
       "   PTRATIO       B  LSTAT  MEDV  \n",
       "0     15.3  396.90   4.98  24.0  \n",
       "1     17.8  396.90   9.14  21.6  \n",
       "2     17.8  392.83   4.03  34.7  \n",
       "3     18.7  394.63   2.94  33.4  \n",
       "4     18.7  396.90   5.33  36.2  "
      ]
     },
     "execution_count": 2,
     "metadata": {},
     "output_type": "execute_result"
    }
   ],
   "source": [
    "housing = pd.read_csv('housing.data.csv', delimiter='\\s+')\n",
    "housing.head()"
   ]
  },
  {
   "cell_type": "code",
   "execution_count": 3,
   "metadata": {},
   "outputs": [],
   "source": [
    "X = housing[['RM']]\n",
    "Y = housing[['MEDV']]"
   ]
  },
  {
   "cell_type": "markdown",
   "metadata": {},
   "source": [
    "# Polynomial Regression\n",
    "\n",
    "Now, implement two linear regression models, one with order 1 polynomial (i.e., the simplest model) and the other with order 4 polynomial. To implement the latter, please have a look at this documentation: http://scikit-learn.org/stable/modules/generated/sklearn.preprocessing.PolynomialFeatures.html\n",
    "\n",
    "**Fit the two models and evaluate their MSE. Which model performs better and why?**"
   ]
  },
  {
   "cell_type": "code",
   "execution_count": 4,
   "metadata": {},
   "outputs": [
    {
     "name": "stdout",
     "output_type": "stream",
     "text": [
      "(404, 1)\n",
      "(102, 1)\n"
     ]
    }
   ],
   "source": [
    "from sklearn.model_selection import train_test_split\n",
    "\n",
    "X_train, X_test, Y_train, Y_test = train_test_split(X, Y, test_size = 0.2, random_state = 191)\n",
    "\n",
    "print(X_train.shape)\n",
    "print(X_test.shape)"
   ]
  },
  {
   "cell_type": "code",
   "execution_count": 5,
   "metadata": {},
   "outputs": [],
   "source": [
    "from sklearn.linear_model import LinearRegression\n",
    "from sklearn.preprocessing import PolynomialFeatures\n",
    "\n",
    "# 1 polynomial\n",
    "linear_1 = LinearRegression()\n",
    "linear_1.fit(X_train, Y_train)\n",
    "linear_1_preds = linear_1.predict(X_test)\n",
    "\n",
    "# 4 polynomial\n",
    "poly_feat = PolynomialFeatures(degree = 4)\n",
    "poly_feat.fit(X_train)\n",
    "X_train_poly = poly_feat.transform(X_train)\n",
    "X_test_poly = poly_feat.transform(X_test)\n",
    "\n",
    "linear_4 = LinearRegression()\n",
    "linear_4.fit(X_train_poly, Y_train)\n",
    "linear_4_preds = linear_4.predict(X_test_poly)"
   ]
  },
  {
   "cell_type": "code",
   "execution_count": 6,
   "metadata": {},
   "outputs": [
    {
     "name": "stdout",
     "output_type": "stream",
     "text": [
      "1 degree MSE: 56.4482628496633\n",
      "4 degree MSE: 49.61772683375572\n"
     ]
    }
   ],
   "source": [
    "from sklearn.metrics import mean_squared_error\n",
    "\n",
    "print('1 degree MSE:', mean_squared_error(linear_1_preds, Y_test))\n",
    "print('4 degree MSE:', mean_squared_error(linear_4_preds, Y_test))"
   ]
  },
  {
   "cell_type": "markdown",
   "metadata": {},
   "source": [
    "> *ANSWER: 4 degree model performs better and gives lower MSE*"
   ]
  },
  {
   "cell_type": "markdown",
   "metadata": {},
   "source": [
    "**Bonus task: plot the two models' results on the test set like the graph shown below**"
   ]
  },
  {
   "cell_type": "code",
   "execution_count": 14,
   "metadata": {},
   "outputs": [
    {
     "data": {
      "image/png": "[encoded data removed]",
      "text/plain": [
       "<Figure size 720x720 with 1 Axes>"
      ]
     },
     "metadata": {
      "needs_background": "light"
     },
     "output_type": "display_data"
    }
   ],
   "source": [
    "X_test_array = np.sort(X_test)\n",
    "X_test_array.sort(axis = 0)\n",
    "\n",
    "fig = plt.figure(figsize=(10,10))\n",
    "\n",
    "plt.scatter(X_test_array, Y_test, color='black')\n",
    "plt.plot(X_test_array, linear_1.predict(X_test_array), color='green')\n",
    "plt.plot(X_test_array, linear_4.predict(poly_feat.transform(X_test_array)), color='red')\n",
    "\n",
    "plt.show()"
   ]
  },
  {
   "cell_type": "markdown",
   "metadata": {},
   "source": [
    "# Lasso Polynomial Regression\n",
    "\n",
    "We will be using the Lasso polynomial regression model. Recall that Lasso regularisation (L1) has a regularisation weight that determines the weighting placed on regularisation. We use the following regularisation weights to evaluate which one is best for the regularisation weight in your constructed lasso polynomial regression.\n",
    "\n",
    "alpha = 0.01 <br/>\n",
    "alpha = 0.05 <br/>\n",
    "alpha = 0.1 <br/>\n",
    "alpha = 0.25 <br/>\n",
    "alpha = 0.5 <br/>\n",
    "alpha = 0.75 <br/>\n",
    "alpha = 1 <br/>\n",
    "\n",
    "Refer to the documentation about L1 regularisation to understand how to modify the polyminal regression model with the alpha parameter: https://scikit-learn.org/stable/modules/generated/sklearn.linear_model.Lasso.html\n",
    "\n",
    "**Your task now is to build seven different Lasso polynomial regression models with the above alpha parameters and evaluate which one works best (based on MSE). Keep the order of polynomial the same (i.e., 4). What is the alpha parameter that leads to the best model?**"
   ]
  },
  {
   "cell_type": "markdown",
   "metadata": {},
   "source": [
    "# K-Fold Cross Validation\n",
    "\n",
    "We will now use k-fold cross validation to evaluate parameters and to perform testing performance. Consider the following code to setup 5-fold cross validation:"
   ]
  },
  {
   "cell_type": "code",
   "execution_count": 15,
   "metadata": {},
   "outputs": [],
   "source": [
    "from sklearn.model_selection import KFold\n",
    "\n",
    "kFold = KFold(n_splits=5, shuffle=True)"
   ]
  },
  {
   "cell_type": "markdown",
   "metadata": {},
   "source": [
    "The shuffle parameter of `KFold()` randomly shuffles the data before performing the splits. You may want to do some extra reading to understand how to use `KFold()`. In order to do model selection with different regularisation alpha values through k-fold cross validation, we first store the alpha values in a list:"
   ]
  },
  {
   "cell_type": "code",
   "execution_count": 16,
   "metadata": {},
   "outputs": [],
   "source": [
    "lRegPara = [0.01, 0.05, 0.1, 0.25, 0.5, 0.75, 1]"
   ]
  },
  {
   "cell_type": "markdown",
   "metadata": {},
   "source": [
    "The following code first splits the data into a train and testing set via `kFold.split()`. Then it splits the training data into a training and validation set, and we use these two sets to train a series of lasso polynomial regression models with regularisation weight parameter in `lRegPara`. This is evaluated using MSE, and finally the code below prints out the results across each fold."
   ]
  },
  {
   "cell_type": "code",
   "execution_count": 27,
   "metadata": {},
   "outputs": [
    {
     "name": "stdout",
     "output_type": "stream",
     "text": [
      "Fold: 1\n",
      "Fold: 2\n",
      "Fold: 3\n",
      "Fold: 4\n",
      "Fold: 5\n",
      "[39.8717490093706, 40.02847515304332, 40.89150255391931, 47.77448126876611, 60.9748995008383, 60.9748995008383, 60.9748995008383]\n"
     ]
    },
    {
     "data": {
      "text/plain": [
       "[<matplotlib.lines.Line2D at 0x1609f1be6d8>]"
      ]
     },
     "execution_count": 27,
     "metadata": {},
     "output_type": "execute_result"
    },
    {
     "data": {
      "image/png": "[encoded data removed]",
      "text/plain": [
       "<Figure size 432x288 with 1 Axes>"
      ]
     },
     "metadata": {
      "needs_background": "light"
     },
     "output_type": "display_data"
    }
   ],
   "source": [
    "from sklearn.linear_model import Lasso\n",
    "\n",
    "poly_feat = PolynomialFeatures(degree = 4)\n",
    "\n",
    "i = 0\n",
    "for trainIndex, testIndex in kFold.split(housing):\n",
    "    # split the train test further\n",
    "    trainX, validX, trainY, validY = train_test_split(np.array(X.loc[trainIndex]), np.array(Y.loc[trainIndex]), test_size=0.2, random_state = 191)\n",
    "\n",
    "    # optimise the linear regression\n",
    "    lResults = []\n",
    "\n",
    "    for regPara in lRegPara:\n",
    "        polyLassoReg = Lasso(alpha=regPara, normalize=True)\n",
    "        polyFitTrainX = poly_feat.fit_transform(trainX)\n",
    "        polyLassoReg.fit(polyFitTrainX, trainY)\n",
    "\n",
    "        polyFitValidX = poly_feat.fit_transform(validX)\n",
    "        predY = polyLassoReg.predict(polyFitValidX)\n",
    "        mse = mean_squared_error(predY, validY)\n",
    "        lResults.append(mse)\n",
    "\n",
    "    i = i + 1\n",
    "    print('Fold:', i)\n",
    "    \n",
    "print(lResults)\n",
    "plt.plot(lRegPara, lResults)"
   ]
  },
  {
   "cell_type": "markdown",
   "metadata": {},
   "source": [
    "**Modify the code above to output an average (and std. dev.) of the results and plot it. Use this result to help select the regularisation parameter setting. What is the alpha value that we should use for our Lasso polynomial model and why?**\n",
    "\n",
    "> *ANSWER: alpha=0.01 should be used for Lasso 4 polynomial model because it yields lowest MSE*"
   ]
  },
  {
   "cell_type": "code",
   "execution_count": 31,
   "metadata": {},
   "outputs": [
    {
     "name": "stdout",
     "output_type": "stream",
     "text": [
      "Average: 50.21298664108775\n",
      "STD: 9.643340775941267\n"
     ]
    }
   ],
   "source": [
    "print('Average:', np.mean(lResults))\n",
    "print('STD:', np.std(lResults))"
   ]
  },
  {
   "cell_type": "markdown",
   "metadata": {},
   "source": [
    "**Your next task is to adjust the order of polynomial to 2 and 3 and evaluate the results. Do these models perform better than the order 4 polynomial model?**"
   ]
  },
  {
   "cell_type": "code",
   "execution_count": 32,
   "metadata": {},
   "outputs": [
    {
     "name": "stdout",
     "output_type": "stream",
     "text": [
      "Fold: 1\n",
      "Fold: 2\n",
      "Fold: 3\n",
      "Fold: 4\n",
      "Fold: 5\n",
      "[42.893389688170856, 41.46801633236525, 40.8046336872548, 46.2700460829006, 64.81443387059899, 64.81443387059899, 64.81443387059899]\n"
     ]
    },
    {
     "data": {
      "text/plain": [
       "[<matplotlib.lines.Line2D at 0x1609f1f9a90>]"
      ]
     },
     "execution_count": 32,
     "metadata": {},
     "output_type": "execute_result"
    },
    {
     "data": {
      "image/png": "[encoded data removed]",
      "text/plain": [
       "<Figure size 432x288 with 1 Axes>"
      ]
     },
     "metadata": {
      "needs_background": "light"
     },
     "output_type": "display_data"
    }
   ],
   "source": [
    "poly_feat = PolynomialFeatures(degree = 2)\n",
    "\n",
    "i = 0\n",
    "for trainIndex, testIndex in kFold.split(housing):\n",
    "    # split the train test further\n",
    "    trainX, validX, trainY, validY = train_test_split(np.array(X.loc[trainIndex]), np.array(Y.loc[trainIndex]), test_size=0.2, random_state = 191)\n",
    "\n",
    "    # optimise the linear regression\n",
    "    lResults = []\n",
    "\n",
    "    for regPara in lRegPara:\n",
    "        polyLassoReg = Lasso(alpha=regPara, normalize=True)\n",
    "        polyFitTrainX = poly_feat.fit_transform(trainX)\n",
    "        polyLassoReg.fit(polyFitTrainX, trainY)\n",
    "\n",
    "        polyFitValidX = poly_feat.fit_transform(validX)\n",
    "        predY = polyLassoReg.predict(polyFitValidX)\n",
    "        mse = mean_squared_error(predY, validY)\n",
    "        lResults.append(mse)\n",
    "\n",
    "    i = i + 1\n",
    "    print('Fold:', i)\n",
    "    \n",
    "print(lResults)\n",
    "plt.plot(lRegPara, lResults)"
   ]
  },
  {
   "cell_type": "code",
   "execution_count": 33,
   "metadata": {},
   "outputs": [
    {
     "name": "stdout",
     "output_type": "stream",
     "text": [
      "Fold: 1\n",
      "Fold: 2\n",
      "Fold: 3\n",
      "Fold: 4\n",
      "Fold: 5\n",
      "[36.78124112442512, 37.46935839157451, 39.790438232480525, 56.493232801660405, 82.38777663465935, 82.38777663465935, 82.38777663465935]\n"
     ]
    },
    {
     "data": {
      "text/plain": [
       "[<matplotlib.lines.Line2D at 0x1609f00e630>]"
      ]
     },
     "execution_count": 33,
     "metadata": {},
     "output_type": "execute_result"
    },
    {
     "data": {
      "image/png": "[encoded data removed]",
      "text/plain": [
       "<Figure size 432x288 with 1 Axes>"
      ]
     },
     "metadata": {
      "needs_background": "light"
     },
     "output_type": "display_data"
    }
   ],
   "source": [
    "poly_feat = PolynomialFeatures(degree = 3)\n",
    "\n",
    "i = 0\n",
    "for trainIndex, testIndex in kFold.split(housing):\n",
    "    # split the train test further\n",
    "    trainX, validX, trainY, validY = train_test_split(np.array(X.loc[trainIndex]), np.array(Y.loc[trainIndex]), test_size=0.2, random_state = 191)\n",
    "\n",
    "    # optimise the linear regression\n",
    "    lResults = []\n",
    "\n",
    "    for regPara in lRegPara:\n",
    "        polyLassoReg = Lasso(alpha=regPara, normalize=True)\n",
    "        polyFitTrainX = poly_feat.fit_transform(trainX)\n",
    "        polyLassoReg.fit(polyFitTrainX, trainY)\n",
    "\n",
    "        polyFitValidX = poly_feat.fit_transform(validX)\n",
    "        predY = polyLassoReg.predict(polyFitValidX)\n",
    "        mse = mean_squared_error(predY, validY)\n",
    "        lResults.append(mse)\n",
    "\n",
    "    i = i + 1\n",
    "    print('Fold:', i)\n",
    "    \n",
    "print(lResults)\n",
    "plt.plot(lRegPara, lResults)"
   ]
  },
  {
   "cell_type": "markdown",
   "metadata": {},
   "source": [
    ">*ANSWER: 2 polynomial model performs worse than 4 polynomial, while 3 polynomial is better. Overall, 3 polynomial Lasso with alpha=0.01 is the best model*"
   ]
  },
  {
   "cell_type": "code",
   "execution_count": null,
   "metadata": {},
   "outputs": [],
   "source": []
  }
 ],
 "metadata": {
  "kernelspec": {
   "display_name": "Python 3",
   "language": "python",
   "name": "python3"
  },
  "language_info": {
   "codemirror_mode": {
    "name": "ipython",
    "version": 3
   },
   "file_extension": ".py",
   "mimetype": "text/x-python",
   "name": "python",
   "nbconvert_exporter": "python",
   "pygments_lexer": "ipython3",
   "version": "3.5.6"
  }
 },
 "nbformat": 4,
 "nbformat_minor": 2
}

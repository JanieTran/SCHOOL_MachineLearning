{
 "cells": [
  {
   "cell_type": "markdown",
   "metadata": {},
   "source": [
    "# WEEK 8 - ENTROPY, RULE LEARNING\n",
    "\n",
    "**Student Name:** Tran Thi Hong Phuong </br>\n",
    "**Student ID:** s3623386"
   ]
  },
  {
   "cell_type": "markdown",
   "metadata": {},
   "source": [
    "# Introduction\n",
    "\n",
    "sklearn does not have an implementation of a rule learner. Instead you are going to implement a simplified CN2 algorithm. This algorithm will only construct pre-conditions that contain a single term (or test), that is, the rule precondition will not contain any conjunctions. This lab will require you to implement functions in python, and use simple loops and if-statements. If you are unfamiliar with these, first revise the Python tutorials from Week 1."
   ]
  },
  {
   "cell_type": "markdown",
   "metadata": {},
   "source": [
    "# Datasets\n",
    "You will be looking at two data sets for this lab which you have seen before:\n",
    "\n",
    "- Sailing days\n",
    "- Zoo (animal) classification\n",
    "\n",
    "**Load these data sets as sailData and zooData respectively, and remove the unnecessary column `name`.**"
   ]
  },
  {
   "cell_type": "code",
   "execution_count": 1,
   "metadata": {},
   "outputs": [
    {
     "data": {
      "text/html": [
       "<div>\n",
       "<style scoped>\n",
       "    .dataframe tbody tr th:only-of-type {\n",
       "        vertical-align: middle;\n",
       "    }\n",
       "\n",
       "    .dataframe tbody tr th {\n",
       "        vertical-align: top;\n",
       "    }\n",
       "\n",
       "    .dataframe thead th {\n",
       "        text-align: right;\n",
       "    }\n",
       "</style>\n",
       "<table border=\"1\" class=\"dataframe\">\n",
       "  <thead>\n",
       "    <tr style=\"text-align: right;\">\n",
       "      <th></th>\n",
       "      <th>Outlook</th>\n",
       "      <th>Company</th>\n",
       "      <th>Sailboat</th>\n",
       "      <th>Sail</th>\n",
       "    </tr>\n",
       "  </thead>\n",
       "  <tbody>\n",
       "    <tr>\n",
       "      <th>0</th>\n",
       "      <td>rainy</td>\n",
       "      <td>big</td>\n",
       "      <td>big</td>\n",
       "      <td>yes</td>\n",
       "    </tr>\n",
       "    <tr>\n",
       "      <th>1</th>\n",
       "      <td>rainy</td>\n",
       "      <td>big</td>\n",
       "      <td>small</td>\n",
       "      <td>yes</td>\n",
       "    </tr>\n",
       "    <tr>\n",
       "      <th>2</th>\n",
       "      <td>rainy</td>\n",
       "      <td>med</td>\n",
       "      <td>big</td>\n",
       "      <td>no</td>\n",
       "    </tr>\n",
       "    <tr>\n",
       "      <th>3</th>\n",
       "      <td>rainy</td>\n",
       "      <td>med</td>\n",
       "      <td>small</td>\n",
       "      <td>no</td>\n",
       "    </tr>\n",
       "    <tr>\n",
       "      <th>4</th>\n",
       "      <td>sunny</td>\n",
       "      <td>big</td>\n",
       "      <td>big</td>\n",
       "      <td>yes</td>\n",
       "    </tr>\n",
       "  </tbody>\n",
       "</table>\n",
       "</div>"
      ],
      "text/plain": [
       "  Outlook Company Sailboat Sail\n",
       "0   rainy     big      big  yes\n",
       "1   rainy     big    small  yes\n",
       "2   rainy     med      big   no\n",
       "3   rainy     med    small   no\n",
       "4   sunny     big      big  yes"
      ]
     },
     "execution_count": 1,
     "metadata": {},
     "output_type": "execute_result"
    }
   ],
   "source": [
    "import pandas as pd\n",
    "\n",
    "sailData = pd.read_csv('sailing-custom-python.tab', delimiter='\\t')\n",
    "sailData.head()"
   ]
  },
  {
   "cell_type": "code",
   "execution_count": 2,
   "metadata": {},
   "outputs": [
    {
     "data": {
      "text/html": [
       "<div>\n",
       "<style scoped>\n",
       "    .dataframe tbody tr th:only-of-type {\n",
       "        vertical-align: middle;\n",
       "    }\n",
       "\n",
       "    .dataframe tbody tr th {\n",
       "        vertical-align: top;\n",
       "    }\n",
       "\n",
       "    .dataframe thead th {\n",
       "        text-align: right;\n",
       "    }\n",
       "</style>\n",
       "<table border=\"1\" class=\"dataframe\">\n",
       "  <thead>\n",
       "    <tr style=\"text-align: right;\">\n",
       "      <th></th>\n",
       "      <th>hair</th>\n",
       "      <th>feathers</th>\n",
       "      <th>eggs</th>\n",
       "      <th>milk</th>\n",
       "      <th>airborne</th>\n",
       "      <th>aquatic</th>\n",
       "      <th>predator</th>\n",
       "      <th>toothed</th>\n",
       "      <th>backbone</th>\n",
       "      <th>breathes</th>\n",
       "      <th>venomous</th>\n",
       "      <th>fins</th>\n",
       "      <th>legs</th>\n",
       "      <th>tail</th>\n",
       "      <th>domestic</th>\n",
       "      <th>catsize</th>\n",
       "      <th>type</th>\n",
       "    </tr>\n",
       "  </thead>\n",
       "  <tbody>\n",
       "    <tr>\n",
       "      <th>0</th>\n",
       "      <td>Yes</td>\n",
       "      <td>No</td>\n",
       "      <td>No</td>\n",
       "      <td>Yes</td>\n",
       "      <td>No</td>\n",
       "      <td>No</td>\n",
       "      <td>Yes</td>\n",
       "      <td>Yes</td>\n",
       "      <td>Yes</td>\n",
       "      <td>Yes</td>\n",
       "      <td>No</td>\n",
       "      <td>No</td>\n",
       "      <td>4.0</td>\n",
       "      <td>No</td>\n",
       "      <td>No</td>\n",
       "      <td>Yes</td>\n",
       "      <td>mammal</td>\n",
       "    </tr>\n",
       "    <tr>\n",
       "      <th>1</th>\n",
       "      <td>Yes</td>\n",
       "      <td>No</td>\n",
       "      <td>No</td>\n",
       "      <td>Yes</td>\n",
       "      <td>No</td>\n",
       "      <td>No</td>\n",
       "      <td>No</td>\n",
       "      <td>Yes</td>\n",
       "      <td>Yes</td>\n",
       "      <td>Yes</td>\n",
       "      <td>No</td>\n",
       "      <td>No</td>\n",
       "      <td>4.0</td>\n",
       "      <td>Yes</td>\n",
       "      <td>No</td>\n",
       "      <td>Yes</td>\n",
       "      <td>mammal</td>\n",
       "    </tr>\n",
       "    <tr>\n",
       "      <th>2</th>\n",
       "      <td>No</td>\n",
       "      <td>No</td>\n",
       "      <td>Yes</td>\n",
       "      <td>No</td>\n",
       "      <td>No</td>\n",
       "      <td>Yes</td>\n",
       "      <td>Yes</td>\n",
       "      <td>Yes</td>\n",
       "      <td>Yes</td>\n",
       "      <td>No</td>\n",
       "      <td>No</td>\n",
       "      <td>Yes</td>\n",
       "      <td>0.0</td>\n",
       "      <td>Yes</td>\n",
       "      <td>No</td>\n",
       "      <td>No</td>\n",
       "      <td>fish</td>\n",
       "    </tr>\n",
       "    <tr>\n",
       "      <th>3</th>\n",
       "      <td>Yes</td>\n",
       "      <td>No</td>\n",
       "      <td>No</td>\n",
       "      <td>Yes</td>\n",
       "      <td>No</td>\n",
       "      <td>No</td>\n",
       "      <td>Yes</td>\n",
       "      <td>Yes</td>\n",
       "      <td>Yes</td>\n",
       "      <td>Yes</td>\n",
       "      <td>No</td>\n",
       "      <td>No</td>\n",
       "      <td>4.0</td>\n",
       "      <td>No</td>\n",
       "      <td>No</td>\n",
       "      <td>Yes</td>\n",
       "      <td>mammal</td>\n",
       "    </tr>\n",
       "    <tr>\n",
       "      <th>4</th>\n",
       "      <td>Yes</td>\n",
       "      <td>No</td>\n",
       "      <td>No</td>\n",
       "      <td>Yes</td>\n",
       "      <td>No</td>\n",
       "      <td>No</td>\n",
       "      <td>Yes</td>\n",
       "      <td>Yes</td>\n",
       "      <td>Yes</td>\n",
       "      <td>Yes</td>\n",
       "      <td>No</td>\n",
       "      <td>No</td>\n",
       "      <td>4.0</td>\n",
       "      <td>Yes</td>\n",
       "      <td>No</td>\n",
       "      <td>Yes</td>\n",
       "      <td>mammal</td>\n",
       "    </tr>\n",
       "  </tbody>\n",
       "</table>\n",
       "</div>"
      ],
      "text/plain": [
       "  hair feathers eggs milk airborne aquatic predator toothed backbone breathes  \\\n",
       "0  Yes       No   No  Yes       No      No      Yes     Yes      Yes      Yes   \n",
       "1  Yes       No   No  Yes       No      No       No     Yes      Yes      Yes   \n",
       "2   No       No  Yes   No       No     Yes      Yes     Yes      Yes       No   \n",
       "3  Yes       No   No  Yes       No      No      Yes     Yes      Yes      Yes   \n",
       "4  Yes       No   No  Yes       No      No      Yes     Yes      Yes      Yes   \n",
       "\n",
       "  venomous fins  legs tail domestic catsize    type  \n",
       "0       No   No   4.0   No       No     Yes  mammal  \n",
       "1       No   No   4.0  Yes       No     Yes  mammal  \n",
       "2       No  Yes   0.0  Yes       No      No    fish  \n",
       "3       No   No   4.0   No       No     Yes  mammal  \n",
       "4       No   No   4.0  Yes       No     Yes  mammal  "
      ]
     },
     "execution_count": 2,
     "metadata": {},
     "output_type": "execute_result"
    }
   ],
   "source": [
    "zooData = pd.read_csv('zoo-python.tab', delimiter='\\t')\n",
    "zooData.drop(['name'], axis=1, inplace=True)\n",
    "zooData.head()"
   ]
  },
  {
   "cell_type": "markdown",
   "metadata": {},
   "source": [
    "# Simple Rule Learner\n",
    "\n",
    "You will develop the simple rule learner over three parts:\n",
    "\n",
    "1. Entropy calculation function\n",
    "2. Majority class calculation function\n",
    "3. Rule learner\n",
    "\n",
    "## Entropy function\n",
    "\n",
    "**First you will need a function that calculates the entropy of a data set.** This function takes two parameters, (1) the data set, and (2) the column name of the output/target class. The function should return the entropy of the data set. As a reminder, entropy is:\n",
    "\n",
    "$$entropy(S) = -\\sum_{i=0}^{c}p_i log_2 p_i$$"
   ]
  },
  {
   "cell_type": "code",
   "execution_count": 3,
   "metadata": {},
   "outputs": [],
   "source": [
    "import math\n",
    "\n",
    "def entropy(data, target):\n",
    "    etp = 0\n",
    "    # Count of all target values\n",
    "    vCounts = pd.value_counts(data[target]).index\n",
    "    # For each unique target value\n",
    "    for value in list(vCounts):\n",
    "        # Get instances having the considered target value\n",
    "        matching = data.loc[data[target] == value]\n",
    "        # Calculate p_i\n",
    "        p_i = matching.shape[0] / data.shape[0]\n",
    "        # Add to entropy\n",
    "        etp += p_i * math.log(p_i, 2)\n",
    "    return - etp"
   ]
  },
  {
   "cell_type": "code",
   "execution_count": 4,
   "metadata": {},
   "outputs": [
    {
     "name": "stdout",
     "output_type": "stream",
     "text": [
      "Entropy of Sail Data: 0.9975025463691153\n",
      "Entropy of Zoo Data: 2.390559682294039\n"
     ]
    }
   ],
   "source": [
    "print('Entropy of Sail Data:', entropy(sailData, 'Sail'))\n",
    "print('Entropy of Zoo Data:', entropy(zooData, 'type'))"
   ]
  },
  {
   "cell_type": "markdown",
   "metadata": {},
   "source": [
    "## Majority Class\n",
    "\n",
    "**Secondly, you will need to implement a function that returns the value of the target column which has the majority number of values.** This code should be very similar to the entropy calculation. Use the following as the definition for your function:"
   ]
  },
  {
   "cell_type": "code",
   "execution_count": 5,
   "metadata": {},
   "outputs": [],
   "source": [
    "# Using loop\n",
    "def majority_class(data, target):\n",
    "    majority = 0\n",
    "    class_name = ''\n",
    "    for value in list(data[target].value_counts().index):\n",
    "        count = data[data[target] == value].shape[0]\n",
    "        if count > majority:\n",
    "            majority = count\n",
    "            class_name = value\n",
    "    return class_name"
   ]
  },
  {
   "cell_type": "code",
   "execution_count": 6,
   "metadata": {},
   "outputs": [
    {
     "name": "stdout",
     "output_type": "stream",
     "text": [
      "Majority class of Sail Data: yes\n",
      "Majority class of Zoo Data: mammal\n"
     ]
    }
   ],
   "source": [
    "print('Majority class of Sail Data:', majority_class(sailData, 'Sail'))\n",
    "print('Majority class of Zoo Data:', majority_class(zooData, 'type'))"
   ]
  },
  {
   "cell_type": "markdown",
   "metadata": {},
   "source": [
    "Alternatively, you can investigate how to use the `idmax()` function, which is a function of a pandas dataframe/series."
   ]
  },
  {
   "cell_type": "code",
   "execution_count": 7,
   "metadata": {},
   "outputs": [
    {
     "name": "stdout",
     "output_type": "stream",
     "text": [
      "Majority class of Sail Data: yes\n",
      "Majority class of Zoo Data: mammal\n"
     ]
    }
   ],
   "source": [
    "# Using idmax()\n",
    "def majority_class(data, target):\n",
    "    return data[target].value_counts().idxmax()\n",
    "\n",
    "print('Majority class of Sail Data:', majority_class(sailData, 'Sail'))\n",
    "print('Majority class of Zoo Data:', majority_class(zooData, 'type'))"
   ]
  },
  {
   "cell_type": "markdown",
   "metadata": {},
   "source": [
    "## Rule Learner\n",
    "\n",
    "Given the above two functions, it is now possible to implement a simple propositional rule learner. The features of this rule learner are:\n",
    "\n",
    "- The pre-condition of each rule contains a single\n",
    "- All attributes are treated as\n",
    "- The rules are going to be printed to the command"
   ]
  },
  {
   "cell_type": "code",
   "execution_count": 12,
   "metadata": {},
   "outputs": [],
   "source": [
    "def simpler_rule_learner(data, target):\n",
    "    while data.shape[0] > 0:\n",
    "        if entropy(data, target) == 0:\n",
    "            print('otherwise =>', majority_class(data, target))\n",
    "            # Drop all rows in dataframe\n",
    "            data = data.iloc[0:0]\n",
    "        else:\n",
    "            best_entropy = entropy(data, target)\n",
    "            best_attribute = ''\n",
    "            best_value = ''\n",
    "            best_data = data\n",
    "            for attribute in list(data.columns):\n",
    "                for value in list(data[attribute].value_counts().index):\n",
    "                    sub_set = data[data[attribute] == value]\n",
    "                    if entropy(sub_set, target) < best_entropy:\n",
    "                        best_entropy = entropy(sub_set, target)\n",
    "                        best_attribute = attribute\n",
    "                        best_value = value\n",
    "                        best_data = sub_set\n",
    "            print(best_attribute, '=', best_value, '=>', majority_class(best_data, target))\n",
    "            data = data.loc[data[best_attribute] != best_value]"
   ]
  },
  {
   "cell_type": "code",
   "execution_count": 13,
   "metadata": {},
   "outputs": [
    {
     "name": "stdout",
     "output_type": "stream",
     "text": [
      "Company = big => yes\n",
      "Outlook = rainy => no\n",
      "Company = med => yes\n",
      "Sailboat = big => no\n",
      "otherwise => yes\n"
     ]
    }
   ],
   "source": [
    "simpler_rule_learner(sailData, 'Sail')"
   ]
  },
  {
   "cell_type": "code",
   "execution_count": 14,
   "metadata": {},
   "outputs": [
    {
     "name": "stdout",
     "output_type": "stream",
     "text": [
      "feathers = Yes => bird\n",
      "milk = Yes => mammal\n",
      "hair = Yes => insect\n",
      "airborne = Yes => insect\n",
      "fins = Yes => fish\n",
      "legs = 8.0 => invertebrate\n",
      "eggs = No => reptile\n",
      "breathes = No => invertebrate\n",
      "aquatic = Yes => amphibian\n",
      "predator = Yes => reptile\n",
      "backbone = Yes => reptile\n",
      "legs = 0.0 => invertebrate\n",
      "otherwise => insect\n"
     ]
    }
   ],
   "source": [
    "simpler_rule_learner(zooData, 'type')"
   ]
  },
  {
   "cell_type": "markdown",
   "metadata": {},
   "source": [
    "To demonstrate your understanding of the rule learner, please **write a short paragraph to explain how the implemented algorithm works, i.e., how does it use the two functions `entropy()` and `majority_class()` to come up with the outputs as shown above.**\n",
    "\n",
    "> *ANSWER:* If the dataset is pure, print the majority class name and end the function. Else, for each attribute of the dataset, divide the dataset by each unique value of the attribute into subsets. Drop the subset with lowest entropy from the original dataset. Repeat the previous two steps for the remaining dataset until all rows have been dropped."
   ]
  }
 ],
 "metadata": {
  "kernelspec": {
   "display_name": "Python 3",
   "language": "python",
   "name": "python3"
  },
  "language_info": {
   "codemirror_mode": {
    "name": "ipython",
    "version": 3
   },
   "file_extension": ".py",
   "mimetype": "text/x-python",
   "name": "python",
   "nbconvert_exporter": "python",
   "pygments_lexer": "ipython3",
   "version": "3.5.6"
  }
 },
 "nbformat": 4,
 "nbformat_minor": 2
}
